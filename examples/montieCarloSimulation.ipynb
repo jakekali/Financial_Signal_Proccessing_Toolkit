{
 "cells": [
  {
   "cell_type": "code",
   "execution_count": 1,
   "metadata": {},
   "outputs": [],
   "source": [
    "import sys\n",
    "sys.path.insert(0, '../')\n",
    "sys.path.insert(0, '../fsp')\n",
    "import fsp.monteCarloSimulation as mcs\n",
    "import fsp.BAPM as bapm\n",
    "import numpy as np"
   ]
  },
  {
   "cell_type": "code",
   "execution_count": 2,
   "metadata": {},
   "outputs": [
    {
     "name": "stdout",
     "output_type": "stream",
     "text": [
      "p_tilde = 0.4444444444444444\n",
      "p_tilde- = 0.2444444444444444\n",
      "p_tilde+ = 0.6444444444444444\n",
      "1.032\n",
      "105.0\n",
      "1.068\n"
     ]
    }
   ],
   "source": [
    "# Create a Monte Carlo simulation object\n",
    "mc = mcs.MonteCarlo(r=0.25, d=0.50, u=2, rng=np.random.RandomState(0))\n",
    "pc = bapm.probabilistic_analysis(r=0.05, d=1.01, u=1.1)\n",
    "\n",
    "p_tilde = bapm.BAPM.riskNeutralProbability(pc.r, pc.d, pc.u)\n",
    "print('p_tilde =', p_tilde)\n",
    "print('p_tilde- =', p_tilde-0.2)\n",
    "print('p_tilde+ =', p_tilde+0.2)\n",
    "\n",
    "print(pc.pathIndependentExpectedValue(S0=1, T=1, p=p_tilde-0.2))\n",
    "print(pc.pathIndependentExpectedValue(S0=100, T=1, p=p_tilde))\n",
    "print(pc.pathIndependentExpectedValue(S0=1, T=1, p=p_tilde+0.2))\n"
   ]
  },
  {
   "cell_type": "code",
   "execution_count": 3,
   "metadata": {},
   "outputs": [
    {
     "data": {
      "text/plain": [
       "array([121.,   1.])"
      ]
     },
     "execution_count": 3,
     "metadata": {},
     "output_type": "execute_result"
    }
   ],
   "source": [
    "bapm.BAPM.singleStepReplicatingPortfolio(S0=121, u=1.1, d=1.01, r=0.05, VH=133.1, VL=122.21)"
   ]
  },
  {
   "cell_type": "code",
   "execution_count": 4,
   "metadata": {},
   "outputs": [
    {
     "data": {
      "text/plain": [
       "array([1.2, 0.5])"
      ]
     },
     "execution_count": 4,
     "metadata": {},
     "output_type": "execute_result"
    }
   ],
   "source": [
    "bapm.BAPM.singleStepReplicatingPortfolio(S0=4, u=2, d=0.5, r=0.25, VH=3, VL=0)"
   ]
  },
  {
   "cell_type": "code",
   "execution_count": 5,
   "metadata": {},
   "outputs": [
    {
     "name": "stdout",
     "output_type": "stream",
     "text": [
      "\t\t [1, 1]  :  16\n",
      "\t\t [1, 0]  :  4.0\n",
      "\t path:  [1]  :  4.4  :  0  :  0\n",
      "\t path:  [1]  :  2 2 0.5 0.25 11 0\n",
      "\t path:  [1]  V0:  4.4  D:  0.9166666666666666\n",
      "\t\t [0, 1]  :  4.0\n",
      "\t\t [0, 0]  :  1.0\n",
      "\t path:  [0]  :  0.0  :  0  :  0\n",
      "\t path:  [0]  :  0.5 2 0.5 0.25 0 0\n",
      "\t path:  [0]  V0:  0.0  D:  -0.0\n",
      " path:  []  :  1.7600000000000002  :  0.9166666666666666  :  -0.0\n",
      " path:  []  :  1 2 0.5 0.25 4.4 0.0\n",
      " path:  []  V0:  1.7600000000000002  D:  0.7333333333333334\n"
     ]
    },
    {
     "data": {
      "text/plain": [
       "(1.7600000000000002, 0.7333333333333334)"
      ]
     },
     "execution_count": 5,
     "metadata": {},
     "output_type": "execute_result"
    }
   ],
   "source": [
    "bapm.BAPM.multiStepReplicatingPortfolio(S0=4, u=2, d=0.5, r=0.25, M=2)"
   ]
  }
 ],
 "metadata": {
  "kernelspec": {
   "display_name": "Python 3.8.10 64-bit",
   "language": "python",
   "name": "python3"
  },
  "language_info": {
   "codemirror_mode": {
    "name": "ipython",
    "version": 3
   },
   "file_extension": ".py",
   "mimetype": "text/x-python",
   "name": "python",
   "nbconvert_exporter": "python",
   "pygments_lexer": "ipython3",
   "version": "3.8.10"
  },
  "orig_nbformat": 4,
  "vscode": {
   "interpreter": {
    "hash": "916dbcbb3f70747c44a77c7bcd40155683ae19c65e1c03b4aa3499c5328201f1"
   }
  }
 },
 "nbformat": 4,
 "nbformat_minor": 2
}
