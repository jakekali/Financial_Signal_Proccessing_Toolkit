{
 "cells": [
  {
   "cell_type": "code",
   "execution_count": 1,
   "metadata": {},
   "outputs": [],
   "source": [
    "import sys\n",
    "sys.path.insert(0, '../')\n",
    "sys.path.insert(0, '../fsp')\n",
    "import fsp.monteCarloSimulation as mcs\n",
    "import fsp.bapm_exact as be\n",
    "import numpy as np"
   ]
  },
  {
   "cell_type": "code",
   "execution_count": 2,
   "metadata": {},
   "outputs": [],
   "source": [
    "# Example from the notes\n",
    "S0 = 4\n",
    "K = 5\n",
    "u = 2\n",
    "d = 0.5\n",
    "r = 0.25\n",
    "\n",
    "exp = be.bapm_exact(u, d, r, S0)\n",
    "exp.setOption(True, True, K, 1)\n",
    "assert(exp.stockPrice(3, 0) == S0 * d **3)\n",
    "assert(exp.stockPrice(0, 3) == S0 * u **3)"
   ]
  },
  {
   "cell_type": "code",
   "execution_count": 3,
   "metadata": {},
   "outputs": [
    {
     "name": "stdout",
     "output_type": "stream",
     "text": [
      "V0:  (1.76, 4.000000000000001)\n"
     ]
    }
   ],
   "source": [
    "V0 = exp.pathIndependentExpectedValue(2,exp.riskNeutralProbability())\n",
    "print(\"V0: \", V0)\n"
   ]
  },
  {
   "cell_type": "code",
   "execution_count": 4,
   "metadata": {},
   "outputs": [
    {
     "name": "stdout",
     "output_type": "stream",
     "text": [
      "V0:  [ 0. -0.]\n"
     ]
    }
   ],
   "source": [
    "V0 = exp.singleStepReplicatingPortfolio(0, 0)\n",
    "print(\"V0: \", V0)"
   ]
  },
  {
   "cell_type": "code",
   "execution_count": 5,
   "metadata": {},
   "outputs": [
    {
     "data": {
      "text/plain": [
       "[[0, 0], [0, 1], [1, 0], [1, 1]]"
      ]
     },
     "execution_count": 5,
     "metadata": {},
     "output_type": "execute_result"
    }
   ],
   "source": [
    "maxPathLength = 4\n",
    "exp.generateAllPaths(2)"
   ]
  },
  {
   "cell_type": "code",
   "execution_count": 6,
   "metadata": {},
   "outputs": [
    {
     "data": {
      "text/plain": [
       "[0.7999999999999998, 0.19999999999999998, 1.8, -0.0, 0.5, 0.5, 4.0, None]"
      ]
     },
     "execution_count": 6,
     "metadata": {},
     "output_type": "execute_result"
    }
   ],
   "source": [
    "exp.recursiveReplicatingPortfolio(3)\n",
    "exp.replicatingDeltas"
   ]
  },
  {
   "cell_type": "markdown",
   "metadata": {},
   "source": [
    "The deltas are not path independent. "
   ]
  },
  {
   "cell_type": "code",
   "execution_count": 7,
   "metadata": {},
   "outputs": [
    {
     "name": "stdout",
     "output_type": "stream",
     "text": [
      "V0:  3.90314752053499 SN:  99.99999999999996\n",
      "V0:  0.7690946873016783 SN:  91.71745411267206\n",
      "V0:  9.934960622896158 SN:  108.87038735338368\n",
      "V0:  3.903147520534992 Deltas (in a binary tree):  [0.5351893058945862, 0.35939112878877555, 0.8151458241899906, 0.16218839213783376, 0.6463260515911902, 0.6463260515911902, 1.1178744451598652, -0.0, 0.38317007642563233, 0.38317007642563233, 1.047982701352146, 0.38317007642563233, 1.047982701352146, 1.047982701352146, 1.3309999999999986, -0.0, -0.0, -0.0, 0.9052393055555565, -0.0, 0.9052393055555565, 0.9052393055555565, 1.34431, -0.0, 0.9052393055555565, 0.9052393055555565, 1.34431, 0.9052393055555565, 1.34431, 1.34431, 1.4640999999999977, None]\n"
     ]
    }
   ],
   "source": [
    "# Example from the notes\n",
    "S0 = 100\n",
    "u = 1.1\n",
    "d = 1.01\n",
    "r = 0.05\n",
    "N = 5\n",
    "K = (1+r)**N * S0\n",
    "\n",
    "\n",
    "exp = be.bapm_exact(u, d, r, S0)\n",
    "exp.setOption(True, True, K, N)\n",
    "p_tilda = exp.riskNeutralProbability()\n",
    "V0 = exp.pathIndependentExpectedValue(N, p_tilda)\n",
    "print(\"V0: \", V0[0], \"SN: \", V0[1])\n",
    "\n",
    "V0 = exp.pathIndependentExpectedValue(N, p_tilda - 0.2)\n",
    "print(\"V0: \", V0[0], \"SN: \", V0[1])\n",
    "\n",
    "V0 = exp.pathIndependentExpectedValue(N, p_tilda + 0.2)\n",
    "print(\"V0: \", V0[0], \"SN: \", V0[1])\n",
    "\n",
    "V0 = exp.recursiveReplicatingPortfolio(N)\n",
    "print(\"V0: \", V0[0], \"Deltas (in a binary tree): \", V0[1])\n"
   ]
  },
  {
   "cell_type": "markdown",
   "metadata": {},
   "source": [
    "Monte Carlo\n"
   ]
  },
  {
   "cell_type": "code",
   "execution_count": 8,
   "metadata": {},
   "outputs": [
    {
     "ename": "TypeError",
     "evalue": "__init__() missing 1 required positional argument: 'S0'",
     "output_type": "error",
     "traceback": [
      "\u001b[0;31m---------------------------------------------------------------------------\u001b[0m",
      "\u001b[0;31mTypeError\u001b[0m                                 Traceback (most recent call last)",
      "\u001b[1;32m/home/jacob/code/ECE-478-FSP/FSP-Toolkit/examples/montieCarloSimulation.ipynb Cell 10\u001b[0m in \u001b[0;36m<cell line: 1>\u001b[0;34m()\u001b[0m\n\u001b[0;32m----> <a href='vscode-notebook-cell://wsl%2Bubuntu/home/jacob/code/ECE-478-FSP/FSP-Toolkit/examples/montieCarloSimulation.ipynb#X12sdnNjb2RlLXJlbW90ZQ%3D%3D?line=0'>1</a>\u001b[0m mc \u001b[39m=\u001b[39m mcs\u001b[39m.\u001b[39;49mMonteCarlo(r, d, u)\n\u001b[1;32m      <a href='vscode-notebook-cell://wsl%2Bubuntu/home/jacob/code/ECE-478-FSP/FSP-Toolkit/examples/montieCarloSimulation.ipynb#X12sdnNjb2RlLXJlbW90ZQ%3D%3D?line=1'>2</a>\u001b[0m mc\u001b[39m.\u001b[39msimulatePathDependent(\u001b[39m100\u001b[39m, \u001b[39m5\u001b[39m, \u001b[39m3\u001b[39m)\n",
      "\u001b[0;31mTypeError\u001b[0m: __init__() missing 1 required positional argument: 'S0'"
     ]
    }
   ],
   "source": [
    "mc = mcs.MonteCarlo(r, d, u)\n",
    "mc.simulatePathDependent(100, 5, 3)"
   ]
  }
 ],
 "metadata": {
  "kernelspec": {
   "display_name": "Python 3.8.10 64-bit",
   "language": "python",
   "name": "python3"
  },
  "language_info": {
   "codemirror_mode": {
    "name": "ipython",
    "version": 3
   },
   "file_extension": ".py",
   "mimetype": "text/x-python",
   "name": "python",
   "nbconvert_exporter": "python",
   "pygments_lexer": "ipython3",
   "version": "3.8.10"
  },
  "orig_nbformat": 4,
  "vscode": {
   "interpreter": {
    "hash": "916dbcbb3f70747c44a77c7bcd40155683ae19c65e1c03b4aa3499c5328201f1"
   }
  }
 },
 "nbformat": 4,
 "nbformat_minor": 2
}
