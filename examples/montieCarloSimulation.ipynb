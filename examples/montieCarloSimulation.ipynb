{
 "cells": [
  {
   "cell_type": "code",
   "execution_count": 1,
   "metadata": {},
   "outputs": [],
   "source": [
    "import sys \n",
    "sys.path.append('../fsp')\n",
    "import monteCarloSimulation as mcs\n",
    "import bapm_exact as be\n",
    "import numpy as np\n",
    "import math"
   ]
  },
  {
   "cell_type": "code",
   "execution_count": 2,
   "metadata": {},
   "outputs": [],
   "source": [
    "# Example from the notes\n",
    "S0 = 4\n",
    "K = 5\n",
    "u = 2\n",
    "d = 0.5\n",
    "r = 0.25\n",
    "\n",
    "exp = be.bapm_exact(u, d, r, S0)\n",
    "exp.setOption(True, True, K, 1)\n",
    "assert(exp.stockPrice(3, 0) == S0 * d **3)\n",
    "assert(exp.stockPrice(0, 3) == S0 * u **3)"
   ]
  },
  {
   "cell_type": "code",
   "execution_count": 3,
   "metadata": {},
   "outputs": [
    {
     "name": "stdout",
     "output_type": "stream",
     "text": [
      "V0:  (array([1.76]), 4.000000000000001)\n"
     ]
    }
   ],
   "source": [
    "V0 = exp.pathIndependentExpectedValue(2,exp.riskNeutralProbability())\n",
    "print(\"V0: \", V0)\n"
   ]
  },
  {
   "cell_type": "code",
   "execution_count": 4,
   "metadata": {},
   "outputs": [
    {
     "name": "stdout",
     "output_type": "stream",
     "text": [
      "V0:  [ 0. -0.]\n"
     ]
    }
   ],
   "source": [
    "V0 = exp.singleStepReplicatingPortfolio(0, 0)\n",
    "print(\"V0: \", V0)"
   ]
  },
  {
   "cell_type": "code",
   "execution_count": 5,
   "metadata": {},
   "outputs": [
    {
     "data": {
      "text/plain": [
       "[[0, 0], [0, 1], [1, 0], [1, 1]]"
      ]
     },
     "execution_count": 5,
     "metadata": {},
     "output_type": "execute_result"
    }
   ],
   "source": [
    "maxPathLength = 4\n",
    "exp.generateAllPaths(2)"
   ]
  },
  {
   "cell_type": "code",
   "execution_count": 6,
   "metadata": {},
   "outputs": [
    {
     "data": {
      "text/plain": [
       "[array([0.8]),\n",
       " array([0.2]),\n",
       " array([1.8]),\n",
       " array([-0.]),\n",
       " array([0.5]),\n",
       " array([0.5]),\n",
       " array([4.]),\n",
       " None]"
      ]
     },
     "execution_count": 6,
     "metadata": {},
     "output_type": "execute_result"
    }
   ],
   "source": [
    "exp.recursiveReplicatingPortfolio(3)\n",
    "exp.replicatingDeltas"
   ]
  },
  {
   "cell_type": "markdown",
   "metadata": {},
   "source": [
    "The deltas are not path independent. "
   ]
  },
  {
   "cell_type": "code",
   "execution_count": 7,
   "metadata": {},
   "outputs": [
    {
     "name": "stdout",
     "output_type": "stream",
     "text": [
      "V0:  [0.03903148] SN:  0.9999999999999994\n",
      "V0:  [0.00769095] SN:  0.9171745411267206\n",
      "V0:  [0.09934961] SN:  1.0887038735338368\n",
      "V0:  [0.03903148] Deltas (in a binary tree):  [array([0.53518931]), array([0.35939113]), array([0.81514582]), array([0.16218839]), array([0.64632605]), array([0.64632605]), array([1.11787445]), array([-0.]), array([0.38317008]), array([0.38317008]), array([1.0479827]), array([0.38317008]), array([1.0479827]), array([1.0479827]), array([1.331]), array([-0.]), array([-0.]), array([-0.]), array([0.90523931]), array([-0.]), array([0.90523931]), array([0.90523931]), array([1.34431]), array([-0.]), array([0.90523931]), array([0.90523931]), array([1.34431]), array([0.90523931]), array([1.34431]), array([1.34431]), array([1.4641]), None]\n"
     ]
    }
   ],
   "source": [
    "# Example from the notes\n",
    "S0 = 1\n",
    "u = 1.1\n",
    "d = 1.01\n",
    "r = 0.05\n",
    "N = 5\n",
    "K = (1+r)**N * S0\n",
    "\n",
    "\n",
    "exp = be.bapm_exact(u, d, r, S0)\n",
    "exp.setOption(True, True, K, N)\n",
    "p_tilda = exp.riskNeutralProbability()\n",
    "V0 = exp.pathIndependentExpectedValue(N, p_tilda)\n",
    "print(\"V0: \", V0[0], \"SN: \", V0[1])\n",
    "\n",
    "V0 = exp.pathIndependentExpectedValue(N, p_tilda - 0.2)\n",
    "print(\"V0: \", V0[0], \"SN: \", V0[1])\n",
    "\n",
    "V0 = exp.pathIndependentExpectedValue(N, p_tilda + 0.2)\n",
    "print(\"V0: \", V0[0], \"SN: \", V0[1])\n",
    "\n",
    "V0 = exp.recursiveReplicatingPortfolio(N)\n",
    "print(\"V0: \", V0[0], \"Deltas (in a binary tree): \", V0[1])\n"
   ]
  },
  {
   "cell_type": "markdown",
   "metadata": {},
   "source": [
    "Monte Carlo\n"
   ]
  },
  {
   "cell_type": "code",
   "execution_count": 8,
   "metadata": {},
   "outputs": [
    {
     "name": "stdout",
     "output_type": "stream",
     "text": [
      "0.4444444444444444\n",
      "V0:  0.039054540012345595 SN:  1.0000175384566599\n"
     ]
    }
   ],
   "source": [
    "S0 = 1\n",
    "u = 1.1\n",
    "d = 1.01\n",
    "r = 0.05\n",
    "N = 5\n",
    "K = (1+r)**N * S0\n",
    "\n",
    "\n",
    "mc = mcs.MonteCarlo(up_factor=u, down_factor=d, risk_free_rate=r, S0=S0)\n",
    "mc.setOption(True, True, K, N)\n",
    "mc.setRNG(np.random.seed(654321))\n",
    "print(p_tilda)\n",
    "S, V = mc.simulatePathDependent(1, 5, 2**21, p_tilda)\n",
    "print(\"V0: \", np.mean(V), \"SN: \", np.mean(S))\n"
   ]
  },
  {
   "cell_type": "code",
   "execution_count": 9,
   "metadata": {},
   "outputs": [
    {
     "name": "stdout",
     "output_type": "stream",
     "text": [
      "0.4444444444444444\n",
      "V0:  0.12715902257375636 SN:  1.1271590225737564\n",
      "V0:  0.13731002777041817 SN:  1.1373100277704182\n",
      "V0:  0.13636804886338527 SN:  1.1363680488633854\n",
      "V0:  0.13616192695820756 SN:  1.1361619269582075\n",
      "V0:  0.13607262784954957 SN:  1.136072627849549\n"
     ]
    }
   ],
   "source": [
    "S0 = 1\n",
    "u = 1 + 5 * 10**(-3)\n",
    "d = 1 + 10**(-4)\n",
    "r = 10**(-3)\n",
    "N = 100\n",
    "K = (1+r)**N * S0\n",
    "\n",
    "mc = mcs.MonteCarlo(up_factor=u, down_factor=d, risk_free_rate=r, S0=S0)\n",
    "mc.setOption(True, True, K, N)\n",
    "mc.setRNG(np.random.seed(22))\n",
    "print(p_tilda)\n",
    "S, V = mc.simulatePathDependent(S0, N, 32, p_tilda)\n",
    "print(\"V0: \", np.mean(V), \"SN: \", np.mean(S))\n",
    "\n",
    "S, V = mc.simulatePathDependent(S0, N, 256, p_tilda)\n",
    "print(\"V0: \", np.mean(V), \"SN: \", np.mean(S))\n",
    "\n",
    "S, V = mc.simulatePathDependent(S0, N, 2**10, p_tilda)\n",
    "print(\"V0: \", np.mean(V), \"SN: \", np.mean(S))\n",
    "\n",
    "S, V = mc.simulatePathDependent(S0, N, 2**11, p_tilda)\n",
    "print(\"V0: \", np.mean(V), \"SN: \", np.mean(S))\n",
    "\n",
    "S, V = mc.simulatePathDependent(S0, N, 2**21, p_tilda)\n",
    "print(\"V0: \", np.mean(V), \"SN: \", np.mean(S))"
   ]
  },
  {
   "cell_type": "code",
   "execution_count": 10,
   "metadata": {},
   "outputs": [
    {
     "name": "stdout",
     "output_type": "stream",
     "text": [
      "SA:  1.0059048618844324  V0:  0.0108362576629468  SN:  1.0059049813884184  S - SE:  1.1950398604021473e-07\n",
      "SA:  1.0059048618844324  V0:  0.010825817927940585  SN:  1.0058898622981756  S - SE:  -1.4999586256836395e-05\n",
      "SA:  1.010833302863568  V0:  0.014122731951511026  SN:  1.0108472562248352  S - SE:  1.3953361267082798e-05\n",
      "SA:  1.0059048618844324  V0:  0.010846680637472945  SN:  1.0059302584716252  S - SE:  2.5396587192805242e-05\n",
      "SA:  1.0059048618844324  V0:  0.010838764140380975  SN:  1.0058999071077652  S - SE:  -4.954776667176475e-06\n",
      "SA:  1.0059048618844324  V0:  0.010832152171022794  SN:  1.0058901856246736  S - SE:  -1.4676259758816812e-05\n",
      "SA:  1.010833302863568  V0:  0.014115763835912573  SN:  1.0108342012367422  S - SE:  8.983731740741518e-07\n",
      "SA:  1.010833302863568  V0:  0.014128050790186772  SN:  1.0108517056507922  S - SE:  1.8402787224092165e-05\n",
      "SA:  1.010833302863568  V0:  0.01410940739004191  SN:  1.0108238260011977  S - SE:  -9.47686237040557e-06\n",
      "SA:  1.010833302863568  V0:  0.014108270672857814  SN:  1.010829845269337  S - SE:  -3.457594231148775e-06\n",
      "SA:  1.010833302863568  V0:  0.014116624655239647  SN:  1.0108403454644188  S - SE:  7.042600850715175e-06\n",
      "SA:  1.010833302863568  V0:  0.014131262403271234  SN:  1.010856466063734  S - SE:  2.3163200165932096e-05\n"
     ]
    },
    {
     "ename": "KeyboardInterrupt",
     "evalue": "",
     "output_type": "error",
     "traceback": [
      "\u001b[0;31m---------------------------------------------------------------------------\u001b[0m",
      "\u001b[0;31mKeyboardInterrupt\u001b[0m                         Traceback (most recent call last)",
      "\u001b[1;32m/home/jacob/code/ECE-478-FSP/FSP-Toolkit/examples/montieCarloSimulation.ipynb Cell 12\u001b[0m in \u001b[0;36m<cell line: 17>\u001b[0;34m()\u001b[0m\n\u001b[1;32m     <a href='vscode-notebook-cell://wsl%2Bubuntu/home/jacob/code/ECE-478-FSP/FSP-Toolkit/examples/montieCarloSimulation.ipynb#X14sdnNjb2RlLXJlbW90ZQ%3D%3D?line=18'>19</a>\u001b[0m mc\u001b[39m.\u001b[39msetRNG(np\u001b[39m.\u001b[39mrandom\u001b[39m.\u001b[39mseed(random\u001b[39m.\u001b[39mrandint(\u001b[39m0\u001b[39m, \u001b[39m2\u001b[39m\u001b[39m*\u001b[39m\u001b[39m*\u001b[39m\u001b[39m32\u001b[39m)))\n\u001b[1;32m     <a href='vscode-notebook-cell://wsl%2Bubuntu/home/jacob/code/ECE-478-FSP/FSP-Toolkit/examples/montieCarloSimulation.ipynb#X14sdnNjb2RlLXJlbW90ZQ%3D%3D?line=19'>20</a>\u001b[0m mc\u001b[39m.\u001b[39msetOption(\u001b[39mTrue\u001b[39;00m, \u001b[39mTrue\u001b[39;00m, K, N)\n\u001b[0;32m---> <a href='vscode-notebook-cell://wsl%2Bubuntu/home/jacob/code/ECE-478-FSP/FSP-Toolkit/examples/montieCarloSimulation.ipynb#X14sdnNjb2RlLXJlbW90ZQ%3D%3D?line=20'>21</a>\u001b[0m S, V \u001b[39m=\u001b[39m mc\u001b[39m.\u001b[39;49msimulatePathDependent(S0, N, \u001b[39m2\u001b[39;49m\u001b[39m*\u001b[39;49m\u001b[39m*\u001b[39;49m\u001b[39m21\u001b[39;49m, p_tilda)\n\u001b[1;32m     <a href='vscode-notebook-cell://wsl%2Bubuntu/home/jacob/code/ECE-478-FSP/FSP-Toolkit/examples/montieCarloSimulation.ipynb#X14sdnNjb2RlLXJlbW90ZQ%3D%3D?line=21'>22</a>\u001b[0m \u001b[39mprint\u001b[39m(\u001b[39m\"\u001b[39m\u001b[39mSA: \u001b[39m\u001b[39m\"\u001b[39m, SE, \u001b[39m\"\u001b[39m\u001b[39m V0: \u001b[39m\u001b[39m\"\u001b[39m, np\u001b[39m.\u001b[39mmean(V), \u001b[39m\"\u001b[39m\u001b[39m SN: \u001b[39m\u001b[39m\"\u001b[39m, np\u001b[39m.\u001b[39mmean(S), \u001b[39m\"\u001b[39m\u001b[39m S - SE: \u001b[39m\u001b[39m\"\u001b[39m, np\u001b[39m.\u001b[39mmean(S) \u001b[39m-\u001b[39m SE)\n",
      "File \u001b[0;32m~/code/ECE-478-FSP/FSP-Toolkit/examples/../fsp/monteCarloSimulation.py:39\u001b[0m, in \u001b[0;36mMonteCarlo.simulatePathDependent\u001b[0;34m(self, S0, T, M, p, max)\u001b[0m\n\u001b[1;32m     35\u001b[0m     \u001b[39mraise\u001b[39;00m \u001b[39mValueError\u001b[39;00m(\u001b[39m'\u001b[39m\u001b[39mThe number of simulations must be positive, integer\u001b[39m\u001b[39m'\u001b[39m)\n\u001b[1;32m     37\u001b[0m \u001b[39mif\u001b[39;00m(\u001b[39mnot\u001b[39;00m \u001b[39mmax\u001b[39m):\n\u001b[0;32m---> 39\u001b[0m     coin_flips \u001b[39m=\u001b[39m \u001b[39mself\u001b[39;49m\u001b[39m.\u001b[39;49mrng\u001b[39m.\u001b[39;49mchoice([\u001b[39m0\u001b[39;49m, \u001b[39m1\u001b[39;49m], size\u001b[39m=\u001b[39;49m(T,M), p\u001b[39m=\u001b[39;49m[(\u001b[39m1\u001b[39;49m\u001b[39m-\u001b[39;49mp),p])\n\u001b[1;32m     41\u001b[0m     SN \u001b[39m=\u001b[39m \u001b[39mself\u001b[39m\u001b[39m.\u001b[39mstockPrice(\u001b[39mlen\u001b[39m(coin_flips)\u001b[39m-\u001b[39m\u001b[39msum\u001b[39m(coin_flips), \u001b[39msum\u001b[39m(coin_flips))\n\u001b[1;32m     42\u001b[0m     V0 \u001b[39m=\u001b[39m \u001b[39mself\u001b[39m\u001b[39m.\u001b[39mV(SN)\n",
      "\u001b[0;31mKeyboardInterrupt\u001b[0m: "
     ]
    }
   ],
   "source": [
    "S0 = 1\n",
    "u = 1 + 5 * 10**(-3)\n",
    "d = 1 + 10**(-4)\n",
    "r = 10**(-3)\n",
    "N = 100\n",
    "K = (1+r)**N * S0\n",
    "\n",
    "ep = be.bapm_exact(u, d, r, S0)\n",
    "ep.setOption(True, True, K, N)\n",
    "p_tilda = ep.riskNeutralProbability()\n",
    "p = p_tilda * 0.9\n",
    "\n",
    "paths = ep.generateRandomPaths(maxPathLength=10, numPaths=5, p=p)\n",
    "SA_10 = ep.stockPrice(len(paths[0])-np.sum(paths, axis=1), np.sum(paths, axis=1))\n",
    "\n",
    "import random\n",
    "for SE in SA_10:\n",
    "    mc = mcs.MonteCarlo(up_factor=u, down_factor=d, risk_free_rate=r, S0=SE)\n",
    "    mc.setRNG(np.random.seed(random.randint(0, 2**32)))\n",
    "    mc.setOption(True, True, K, N)\n",
    "    S, V = mc.simulatePathDependent(S0, N, 2**21, p_tilda)\n",
    "    print(\"SA: \", SE, \" V0: \", np.mean(V), \" SN: \", np.mean(S), \" S - SE: \", np.mean(S) - SE)\n"
   ]
  },
  {
   "cell_type": "code",
   "execution_count": 11,
   "metadata": {},
   "outputs": [
    {
     "name": "stdout",
     "output_type": "stream",
     "text": [
      "SA:  1.0157858907888069  V0:  0.017853392025383916  SN:  1.0157920689662256  S - SE:  6.1781774187696925e-06\n",
      "Mean:  1.0157920689662256  Std:  nan\n"
     ]
    },
    {
     "name": "stderr",
     "output_type": "stream",
     "text": [
      "/home/jacob/.local/lib/python3.8/site-packages/numpy/core/fromnumeric.py:3715: RuntimeWarning: Degrees of freedom <= 0 for slice\n",
      "  return _methods._var(a, axis=axis, dtype=dtype, out=out, ddof=ddof,\n",
      "/home/jacob/.local/lib/python3.8/site-packages/numpy/core/_methods.py:257: RuntimeWarning: invalid value encountered in double_scalars\n",
      "  ret = ret.dtype.type(ret / rcount)\n"
     ]
    }
   ],
   "source": [
    "S0 = 1\n",
    "u = 1 + 5 * 10**(-3)\n",
    "d = 1 + 10**(-4)\n",
    "r = 10**(-3)\n",
    "N = 100\n",
    "K = (1+r)**N * S0\n",
    "\n",
    "ep = be.bapm_exact(u, d, r, S0)\n",
    "ep.setOption(True, True, K, N)\n",
    "p_tilda = ep.riskNeutralProbability()\n",
    "p = p_tilda * 0.9\n",
    "\n",
    "paths = ep.generateRandomPaths(maxPathLength=10, numPaths=1, p=p)\n",
    "SA_10 = ep.stockPrice(len(paths[0])-np.sum(paths, axis=1), np.sum(paths, axis=1))\n",
    "\n",
    "S_samples = []\n",
    "\n",
    "import random\n",
    "for SE in SA_10:\n",
    "    for i in range(1):\n",
    "        mc = mcs.MonteCarlo(up_factor=u, down_factor=d, risk_free_rate=r, S0=SE)\n",
    "        mc.setRNG(np.random.seed(random.randint(0, 2**16)))\n",
    "        mc.setOption(True, True, K, N)\n",
    "        S, V = mc.simulatePathDependent(S0, N, 2**21, p_tilda)\n",
    "        print(\"SA: \", SE, \" V0: \", np.mean(V), \" SN: \", np.mean(S), \" S - SE: \", np.mean(S) - SE)\n",
    "        S_samples.append(np.mean(S))\n",
    "\n",
    "print(\"Mean: \", np.mean(S_samples), \" Std: \", np.var(S_samples, ddof=1))\n"
   ]
  },
  {
   "cell_type": "code",
   "execution_count": 12,
   "metadata": {},
   "outputs": [
    {
     "data": {
      "text/plain": [
       "(array([1.]),\n",
       " array([0.51579207, 1.51579207]),\n",
       " <BarContainer object of 1 artists>)"
      ]
     },
     "execution_count": 12,
     "metadata": {},
     "output_type": "execute_result"
    },
    {
     "data": {
      "image/png": "[encoded data removed]",
      "text/plain": [
       "<Figure size 432x288 with 1 Axes>"
      ]
     },
     "metadata": {
      "needs_background": "light"
     },
     "output_type": "display_data"
    }
   ],
   "source": [
    "import matplotlib.pyplot as plt\n",
    "plt.hist(S_samples, bins='auto')"
   ]
  },
  {
   "cell_type": "code",
   "execution_count": 13,
   "metadata": {},
   "outputs": [
    {
     "name": "stdout",
     "output_type": "stream",
     "text": [
      "0.18367346938773846\n",
      "V0:  0.01313566276289144 SN:  1.0047817880616778\n",
      "V0:  0.014408226603147948 SN:  0.9993814901162792\n",
      "V0:  0.013957546511675668 SN:  1.0004926533543639\n",
      "V0:  0.014314933860635294 SN:  1.00003485647646\n",
      "V0:  0.014200514450890257 SN:  0.9999966700088878\n"
     ]
    }
   ],
   "source": [
    "S0 = 1\n",
    "u = 1 + 5 * 10**(-3)\n",
    "d = 1 + 10**(-4)\n",
    "r = 10**(-3)\n",
    "N = 100\n",
    "K = (1+r)**N * S0\n",
    "\n",
    "mc = mcs.MonteCarlo(up_factor=u, down_factor=d, risk_free_rate=r, S0=S0)\n",
    "mc.setOption(True, True, K, N)\n",
    "mc.setRNG(np.random.seed(22))\n",
    "print(p_tilda)\n",
    "S, V = mc.simulatePathDependent(S0, N, 32, p_tilda, True)\n",
    "print(\"V0: \", np.mean(V), \"SN: \", np.mean(S))\n",
    "\n",
    "S, V = mc.simulatePathDependent(S0, N, 256, p_tilda, True)\n",
    "print(\"V0: \", np.mean(V), \"SN: \", np.mean(S))\n",
    "\n",
    "S, V = mc.simulatePathDependent(S0, N, 2**10, p_tilda, True)\n",
    "print(\"V0: \", np.mean(V), \"SN: \", np.mean(S))\n",
    "\n",
    "S, V = mc.simulatePathDependent(S0, N, 2**11, p_tilda,  True)\n",
    "print(\"V0: \", np.mean(V), \"SN: \", np.mean(S))\n",
    "\n",
    "S, V = mc.simulatePathDependent(S0, N, 2**21, p_tilda,  True)\n",
    "print(\"V0: \", np.mean(V), \"SN: \", np.mean(S))"
   ]
  },
  {
   "cell_type": "code",
   "execution_count": 14,
   "metadata": {},
   "outputs": [
    {
     "name": "stdout",
     "output_type": "stream",
     "text": [
      "SA:  1.0059048618844324  V0:  0.014182862573316848  SN:  1.0000143904873124  S - SE:  -0.005890471397119956\n",
      "SA:  1.0059048618844324  V0:  0.014194452428676015  SN:  0.9999932863406583  S - SE:  -0.0059115755437740836\n",
      "SA:  1.010833302863568  V0:  0.014192724007013416  SN:  1.0000002214026107  S - SE:  -0.010833081460957406\n",
      "SA:  1.0059048618844324  V0:  0.014196231791008101  SN:  0.9999819371634198  S - SE:  -0.0059229247210126346\n",
      "SA:  1.0059048618844324  V0:  0.01419492103374683  SN:  0.9999871423009519  S - SE:  -0.00591771958348053\n"
     ]
    }
   ],
   "source": [
    "S0 = 1\n",
    "u = 1 + 5 * 10**(-3)\n",
    "d = 1 + 10**(-4)\n",
    "r = 10**(-3)\n",
    "N = 100\n",
    "K = (1+r)**N * S0\n",
    "\n",
    "ep = be.bapm_exact(u, d, r, S0)\n",
    "ep.setOption(True, True, K, N)\n",
    "p_tilda = ep.riskNeutralProbability()\n",
    "p = p_tilda * 0.9\n",
    "\n",
    "paths = ep.generateRandomPaths(maxPathLength=10, numPaths=5, p=p)\n",
    "SA_10 = ep.stockPrice(len(paths[0])-np.sum(paths, axis=1), np.sum(paths, axis=1))\n",
    "\n",
    "import random\n",
    "for SE in SA_10:\n",
    "    mc = mcs.MonteCarlo(up_factor=u, down_factor=d, risk_free_rate=r, S0=SE)\n",
    "    mc.setRNG(np.random.seed(random.randint(0, 2**32)))\n",
    "    mc.setOption(True, True, K, N)\n",
    "    S, V = mc.simulatePathDependent(S0, N, 2**21, p_tilda, True)\n",
    "    print(\"SA: \", SE, \" V0: \", np.mean(V), \" SN: \", np.mean(S), \" S - SE: \", np.mean(S) - SE)\n"
   ]
  },
  {
   "cell_type": "code",
   "execution_count": 17,
   "metadata": {},
   "outputs": [
    {
     "name": "stdout",
     "output_type": "stream",
     "text": [
      "SA:  1.0207627439683542  V0:  0.014187927357209095  SN:  0.9999904380353998  S - SE:  -0.020772305932954427\n",
      "SA:  1.0207627439683542  V0:  0.014188233814624546  SN:  1.0000042193954404  S - SE:  -0.020758524572913828\n",
      "SA:  1.0207627439683542  V0:  0.014193252132845  SN:  0.9999876474509893  S - SE:  -0.020775096517364866\n",
      "SA:  1.0207627439683542  V0:  0.014175218085263466  SN:  1.000009381224827  S - SE:  -0.020753362743527237\n",
      "SA:  1.0207627439683542  V0:  0.014187696714794239  SN:  0.9999930912232017  S - SE:  -0.020769652745152523\n",
      "SA:  1.0207627439683542  V0:  0.01420725961189876  SN:  0.9999728172391786  S - SE:  -0.020789926729175567\n",
      "SA:  1.0207627439683542  V0:  0.014199561419943248  SN:  0.999975889398861  S - SE:  -0.02078685456949325\n",
      "SA:  1.0207627439683542  V0:  0.014180755375836077  SN:  1.0000178398749227  S - SE:  -0.02074490409343155\n",
      "SA:  1.0207627439683542  V0:  0.01419839103027711  SN:  0.999987106484708  S - SE:  -0.020775637483646192\n",
      "SA:  1.0207627439683542  V0:  0.01418830074958424  SN:  1.0000033208597607  S - SE:  -0.020759423108593467\n",
      "SA:  1.0207627439683542  V0:  0.01418276908604662  SN:  1.0000136441572267  S - SE:  -0.02074909981112749\n",
      "SA:  1.0207627439683542  V0:  0.014196988378106996  SN:  1.0000111170856445  S - SE:  -0.020751626882709706\n",
      "SA:  1.0207627439683542  V0:  0.014190217894088924  SN:  1.0000052608899075  S - SE:  -0.020757483078446715\n",
      "SA:  1.0207627439683542  V0:  0.014186903710439932  SN:  1.0000114514075493  S - SE:  -0.02075129256080488\n",
      "SA:  1.0207627439683542  V0:  0.014200087556828922  SN:  0.9999802779296527  S - SE:  -0.020782466038701486\n",
      "SA:  1.0207627439683542  V0:  0.01418911192159904  SN:  0.9999981841481895  S - SE:  -0.020764559820164674\n",
      "SA:  1.0207627439683542  V0:  0.014202152750279777  SN:  0.999986300527132  S - SE:  -0.020776443441222203\n",
      "SA:  1.0207627439683542  V0:  0.01419252269687378  SN:  1.0000109363398957  S - SE:  -0.02075180762845852\n",
      "SA:  1.0207627439683542  V0:  0.014194666120884726  SN:  1.0000090339584944  S - SE:  -0.020753710009859816\n",
      "SA:  1.0207627439683542  V0:  0.01418715262827459  SN:  1.0000051667984147  S - SE:  -0.020757577169939534\n",
      "SA:  1.0207627439683542  V0:  0.014191768099005138  SN:  0.9999982470612361  S - SE:  -0.020764496907118124\n",
      "SA:  1.0207627439683542  V0:  0.014194168615399934  SN:  0.9999900207337189  S - SE:  -0.020772723234635304\n",
      "SA:  1.0207627439683542  V0:  0.014197432894803593  SN:  0.9999795636560878  S - SE:  -0.020783180312266447\n",
      "SA:  1.0207627439683542  V0:  0.014180916802526755  SN:  1.0000136626408842  S - SE:  -0.020749081327469998\n",
      "SA:  1.0207627439683542  V0:  0.014178863032627657  SN:  1.0000116574441118  S - SE:  -0.0207510865242424\n",
      "Mean:  0.9999992621822151  Std:  2.2964597673155453e-10\n"
     ]
    }
   ],
   "source": [
    "S0 = 1\n",
    "u = 1 + 5 * 10**(-3)\n",
    "d = 1 + 10**(-4)\n",
    "r = 10**(-3)\n",
    "N = 100\n",
    "K = (1+r)**N * S0\n",
    "\n",
    "ep = be.bapm_exact(u, d, r, S0)\n",
    "ep.setOption(True, True, K, N)\n",
    "p_tilda = ep.riskNeutralProbability()\n",
    "p = p_tilda * 0.9\n",
    "\n",
    "paths = ep.generateRandomPaths(maxPathLength=10, numPaths=1, p=p)\n",
    "SA_10 = ep.stockPrice(len(paths[0])-np.sum(paths, axis=1), np.sum(paths, axis=1))\n",
    "\n",
    "\n",
    "\n",
    "import random\n",
    "for SE in SA_10:\n",
    "    for i in range(25):\n",
    "        mc = mcs.MonteCarlo(up_factor=u, down_factor=d, risk_free_rate=r, S0=SE)\n",
    "        mc.setRNG(np.random.seed(random.randint(0, 2**16)))\n",
    "        mc.setOption(True, True, K, N)\n",
    "        S, V = mc.simulatePathDependent(S0, N, 2**21, p_tilda, True)\n",
    "        print(\"SA: \", SE, \" V0: \", np.mean(V), \" SN: \", np.mean(S), \" S - SE: \", np.mean(S) - SE)\n",
    "        S_samples.append(np.mean(S))\n",
    "\n",
    "print(\"Mean: \", np.mean(S_samples), \" Std: \", np.var(S_samples, ddof=1))\n"
   ]
  },
  {
   "cell_type": "code",
   "execution_count": 16,
   "metadata": {},
   "outputs": [
    {
     "data": {
      "text/plain": [
       "(array([4., 5., 4., 4., 6., 2.]),\n",
       " array([0.99997015, 0.99998049, 0.99999082, 1.00000116, 1.00001149,\n",
       "        1.00002183, 1.00003216]),\n",
       " <BarContainer object of 6 artists>)"
      ]
     },
     "execution_count": 16,
     "metadata": {},
     "output_type": "execute_result"
    },
    {
     "data": {
      "image/png": "[encoded data removed]",
      "text/plain": [
       "<Figure size 432x288 with 1 Axes>"
      ]
     },
     "metadata": {
      "needs_background": "light"
     },
     "output_type": "display_data"
    }
   ],
   "source": [
    "import matplotlib.pyplot as plt\n",
    "plt.hist(S_samples, bins='auto')"
   ]
  }
 ],
 "metadata": {
  "kernelspec": {
   "display_name": "Python 3.8.10 64-bit",
   "language": "python",
   "name": "python3"
  },
  "language_info": {
   "codemirror_mode": {
    "name": "ipython",
    "version": 3
   },
   "file_extension": ".py",
   "mimetype": "text/x-python",
   "name": "python",
   "nbconvert_exporter": "python",
   "pygments_lexer": "ipython3",
   "version": "3.8.10"
  },
  "orig_nbformat": 4,
  "vscode": {
   "interpreter": {
    "hash": "916dbcbb3f70747c44a77c7bcd40155683ae19c65e1c03b4aa3499c5328201f1"
   }
  }
 },
 "nbformat": 4,
 "nbformat_minor": 2
}
