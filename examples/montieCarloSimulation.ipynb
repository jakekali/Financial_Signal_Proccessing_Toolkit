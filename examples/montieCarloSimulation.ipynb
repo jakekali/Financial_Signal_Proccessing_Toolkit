{
 "cells": [
  {
   "cell_type": "code",
   "execution_count": 1,
   "metadata": {},
   "outputs": [],
   "source": [
    "import sys\n",
    "sys.path.insert(0, '../')\n",
    "import fsp.monteCarloSimulation as mcs\n",
    "import numpy as np\n",
    "\n",
    "# Create a Monte Carlo simulation object\n",
    "mc = mcs.MonteCarlo(0.05, 0.5, 1.5, np.random.RandomState(0))\n"
   ]
  },
  {
   "cell_type": "code",
   "execution_count": 3,
   "metadata": {},
   "outputs": [
    {
     "data": {
      "text/plain": [
       "array([100.        , 110.01658   , 121.04271   , 133.146     ,\n",
       "       146.46614375, 161.106005  , 177.22056812, 194.95622859,\n",
       "       214.45313578, 235.95468555])"
      ]
     },
     "execution_count": 3,
     "metadata": {},
     "output_type": "execute_result"
    }
   ],
   "source": [
    "np.mean(mc.simulatePathDependent(S0=100, T=10, M=10000000, p=0.6), axis=1)"
   ]
  }
 ],
 "metadata": {
  "kernelspec": {
   "display_name": "Python 3.8.10 64-bit",
   "language": "python",
   "name": "python3"
  },
  "language_info": {
   "codemirror_mode": {
    "name": "ipython",
    "version": 3
   },
   "file_extension": ".py",
   "mimetype": "text/x-python",
   "name": "python",
   "nbconvert_exporter": "python",
   "pygments_lexer": "ipython3",
   "version": "3.8.10"
  },
  "orig_nbformat": 4,
  "vscode": {
   "interpreter": {
    "hash": "916dbcbb3f70747c44a77c7bcd40155683ae19c65e1c03b4aa3499c5328201f1"
   }
  }
 },
 "nbformat": 4,
 "nbformat_minor": 2
}
