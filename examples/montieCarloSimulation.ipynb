{
 "cells": [
  {
   "cell_type": "code",
   "execution_count": 1,
   "metadata": {},
   "outputs": [],
   "source": [
    "import sys \n",
    "sys.path.append('../fsp')\n",
    "import monteCarloSimulation as mcs\n",
    "import bapm_exact as be\n",
    "import numpy as np"
   ]
  },
  {
   "cell_type": "code",
   "execution_count": 2,
   "metadata": {},
   "outputs": [],
   "source": [
    "# Example from the notes\n",
    "S0 = 4\n",
    "K = 5\n",
    "u = 2\n",
    "d = 0.5\n",
    "r = 0.25\n",
    "\n",
    "exp = be.bapm_exact(u, d, r, S0)\n",
    "exp.setOption(True, True, K, 1)\n",
    "assert(exp.stockPrice(3, 0) == S0 * d **3)\n",
    "assert(exp.stockPrice(0, 3) == S0 * u **3)"
   ]
  },
  {
   "cell_type": "code",
   "execution_count": 3,
   "metadata": {},
   "outputs": [
    {
     "name": "stdout",
     "output_type": "stream",
     "text": [
      "V0:  (array([1.76]), 4.000000000000001)\n"
     ]
    }
   ],
   "source": [
    "V0 = exp.pathIndependentExpectedValue(2,exp.riskNeutralProbability())\n",
    "print(\"V0: \", V0)\n"
   ]
  },
  {
   "cell_type": "code",
   "execution_count": 4,
   "metadata": {},
   "outputs": [
    {
     "name": "stdout",
     "output_type": "stream",
     "text": [
      "V0:  [ 0. -0.]\n"
     ]
    }
   ],
   "source": [
    "V0 = exp.singleStepReplicatingPortfolio(0, 0)\n",
    "print(\"V0: \", V0)"
   ]
  },
  {
   "cell_type": "code",
   "execution_count": 5,
   "metadata": {},
   "outputs": [
    {
     "data": {
      "text/plain": [
       "[[0, 0], [0, 1], [1, 0], [1, 1]]"
      ]
     },
     "execution_count": 5,
     "metadata": {},
     "output_type": "execute_result"
    }
   ],
   "source": [
    "maxPathLength = 4\n",
    "exp.generateAllPaths(2)"
   ]
  },
  {
   "cell_type": "code",
   "execution_count": 6,
   "metadata": {},
   "outputs": [
    {
     "data": {
      "text/plain": [
       "[array([0.8]),\n",
       " array([0.2]),\n",
       " array([1.8]),\n",
       " array([-0.]),\n",
       " array([0.5]),\n",
       " array([0.5]),\n",
       " array([4.]),\n",
       " None]"
      ]
     },
     "execution_count": 6,
     "metadata": {},
     "output_type": "execute_result"
    }
   ],
   "source": [
    "exp.recursiveReplicatingPortfolio(3)\n",
    "exp.replicatingDeltas"
   ]
  },
  {
   "cell_type": "markdown",
   "metadata": {},
   "source": [
    "The deltas are not path independent. "
   ]
  },
  {
   "cell_type": "code",
   "execution_count": 7,
   "metadata": {},
   "outputs": [
    {
     "name": "stdout",
     "output_type": "stream",
     "text": [
      "V0:  [3.90314752] SN:  99.99999999999996\n",
      "V0:  [0.76909469] SN:  91.71745411267206\n",
      "V0:  [9.93496062] SN:  108.87038735338368\n",
      "V0:  [3.90314752] Deltas (in a binary tree):  [array([0.53518931]), array([0.35939113]), array([0.81514582]), array([0.16218839]), array([0.64632605]), array([0.64632605]), array([1.11787445]), array([-0.]), array([0.38317008]), array([0.38317008]), array([1.0479827]), array([0.38317008]), array([1.0479827]), array([1.0479827]), array([1.331]), array([-0.]), array([-0.]), array([-0.]), array([0.90523931]), array([-0.]), array([0.90523931]), array([0.90523931]), array([1.34431]), array([-0.]), array([0.90523931]), array([0.90523931]), array([1.34431]), array([0.90523931]), array([1.34431]), array([1.34431]), array([1.4641]), None]\n"
     ]
    }
   ],
   "source": [
    "# Example from the notes\n",
    "S0 = 100\n",
    "u = 1.1\n",
    "d = 1.01\n",
    "r = 0.05\n",
    "N = 5\n",
    "K = (1+r)**N * S0\n",
    "\n",
    "\n",
    "exp = be.bapm_exact(u, d, r, S0)\n",
    "exp.setOption(True, True, K, N)\n",
    "p_tilda = exp.riskNeutralProbability()\n",
    "V0 = exp.pathIndependentExpectedValue(N, p_tilda)\n",
    "print(\"V0: \", V0[0], \"SN: \", V0[1])\n",
    "\n",
    "V0 = exp.pathIndependentExpectedValue(N, p_tilda - 0.2)\n",
    "print(\"V0: \", V0[0], \"SN: \", V0[1])\n",
    "\n",
    "V0 = exp.pathIndependentExpectedValue(N, p_tilda + 0.2)\n",
    "print(\"V0: \", V0[0], \"SN: \", V0[1])\n",
    "\n",
    "V0 = exp.recursiveReplicatingPortfolio(N)\n",
    "print(\"V0: \", V0[0], \"Deltas (in a binary tree): \", V0[1])\n"
   ]
  },
  {
   "cell_type": "markdown",
   "metadata": {},
   "source": [
    "Monte Carlo\n"
   ]
  },
  {
   "cell_type": "code",
   "execution_count": 8,
   "metadata": {},
   "outputs": [
    {
     "name": "stdout",
     "output_type": "stream",
     "text": [
      "0.4444444444444444\n",
      "0.44426775\n",
      "V0:  3.8979751820437403 SN:  115.86322669297357\n"
     ]
    }
   ],
   "source": [
    "S0 = 100\n",
    "u = 1.1\n",
    "d = 1.01\n",
    "r = 0.05\n",
    "N = 5\n",
    "K = (1+r)**N * S0\n",
    "\n",
    "\n",
    "mc = mcs.MonteCarlo(up_factor=u, down_factor=d, risk_free_rate=r, S0=100)\n",
    "mc.setOption(True, True, K, N)\n",
    "mc.setRNG(np.random.seed(22))\n",
    "print(p_tilda)\n",
    "S, V = mc.simulatePathDependent(100, 5, 3200000, p_tilda)\n",
    "print(\"V0: \", np.mean(V), \"SN: \", np.mean(S[1]))\n"
   ]
  }
 ],
 "metadata": {
  "kernelspec": {
   "display_name": "Python 3.8.10 64-bit",
   "language": "python",
   "name": "python3"
  },
  "language_info": {
   "codemirror_mode": {
    "name": "ipython",
    "version": 3
   },
   "file_extension": ".py",
   "mimetype": "text/x-python",
   "name": "python",
   "nbconvert_exporter": "python",
   "pygments_lexer": "ipython3",
   "version": "3.8.10"
  },
  "orig_nbformat": 4,
  "vscode": {
   "interpreter": {
    "hash": "916dbcbb3f70747c44a77c7bcd40155683ae19c65e1c03b4aa3499c5328201f1"
   }
  }
 },
 "nbformat": 4,
 "nbformat_minor": 2
}
