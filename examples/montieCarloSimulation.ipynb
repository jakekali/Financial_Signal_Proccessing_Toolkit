{
 "cells": [
  {
   "cell_type": "code",
   "execution_count": 49,
   "metadata": {},
   "outputs": [],
   "source": [
    "import sys \n",
    "sys.path.append('../fsp')\n",
    "import monteCarloSimulation as mcs\n",
    "import bapm_exact as be\n",
    "import numpy as np\n",
    "import math\n",
    "import IPython.display as display\n"
   ]
  },
  {
   "cell_type": "code",
   "execution_count": 50,
   "metadata": {},
   "outputs": [
    {
     "data": {
      "text/latex": [
       "$\\displaystyle  E[V_N] = 1.2$"
      ],
      "text/plain": [
       "<IPython.core.display.Math object>"
      ]
     },
     "execution_count": 50,
     "metadata": {},
     "output_type": "execute_result"
    }
   ],
   "source": [
    "# 1A. Compute the $E[V_N], for a given probability$ \n",
    "# Test with example from notes. \n",
    "S0 = 4\n",
    "K = 5\n",
    "u = 2\n",
    "d = 0.5\n",
    "r = 0.25\n",
    "\n",
    "exp = be.bapm_exact(u, d, r, S0)\n",
    "exp.setOption(True, True, K, 1)\n",
    "\n",
    "# Computes the expected value of V_n for a N, and probability.\n",
    "V0 = exp.pathIndependentExpectedValue(1,exp.riskNeutralProbability())\n",
    "display.Math(r\"$ E[V_N] = \" + str( V0[0]) + \"$\")"
   ]
  },
  {
   "cell_type": "code",
   "execution_count": 51,
   "metadata": {},
   "outputs": [
    {
     "data": {
      "text/latex": [
       "$\\displaystyle  E[V_N] = [1.2]$ , $ \\Delta = [0.5]$"
      ],
      "text/plain": [
       "<IPython.core.display.Math object>"
      ]
     },
     "execution_count": 51,
     "metadata": {},
     "output_type": "execute_result"
    }
   ],
   "source": [
    "# 1B. Generate a replicating portfolio\n",
    "# Test with example from notes.\n",
    "\n",
    "S0 = 4\n",
    "K = 5\n",
    "u = 2\n",
    "d = 0.5\n",
    "r = 0.25\n",
    "\n",
    "exp = be.bapm_exact(u, d, r, S0)\n",
    "exp.setOption(True, True, K, 1)\n",
    "VH = exp.V(S0*u)\n",
    "VL = exp.V(S0*d)\n",
    "V0, Deltas = exp.singleStepReplicatingPortfolio(VH, VL)\n",
    "display.Math(r\"$ E[V_N] = \" + str( V0) + r\"$ \" + r\", $ \\Delta = \" + str( Deltas) + r\"$\")"
   ]
  },
  {
   "cell_type": "code",
   "execution_count": 52,
   "metadata": {},
   "outputs": [
    {
     "name": "stdout",
     "output_type": "stream",
     "text": [
      "VH  (array([1.]), 1) VL  (array([0.]), 1)\n",
      "VH  (array([13.]), 1) VL  (array([1.]), 1)\n",
      "VH  (5.6, 2.0) VL  (0.4, 0.16666666666666666)\n",
      "[0.8666666666666666, 0.16666666666666666, 2.0]\n"
     ]
    }
   ],
   "source": [
    "# 1C. Generate a MultiStep replicating portfolio\n",
    "# Test with example from notes.\n",
    "\n",
    "S0 = 4\n",
    "K = 3\n",
    "u = 2\n",
    "d = 0.5\n",
    "r = 0.25\n",
    "\n",
    "exp = be.bapm_exact(u, d, r, S0)\n",
    "exp.setOption(True, True, K, 2)\n",
    "VH = exp.V(S0*u)\n",
    "VL = exp.V(S0*d)\n",
    "V0, Deltas = exp.recursiveReplicatingPortfolio(2)\n",
    "print(Deltas)\n",
    "# display.Math(r\"$ E[V_N] = \" + str( V0) + r\"$ \" + r\", $ \\Delta = \" + str( Deltas) + r\"$\")\n",
    "# The Deltas are stored in a binary tree, so the first element is the root, the second and third are the children of the root, the fourth and fifth are the children of the second, and so on."
   ]
  },
  {
   "cell_type": "markdown",
   "metadata": {},
   "source": [
    "The delta's are not path independent, the however, only depend on the previous time-steps, they are adapted to the filtration."
   ]
  },
  {
   "cell_type": "code",
   "execution_count": 53,
   "metadata": {},
   "outputs": [
    {
     "name": "stdout",
     "output_type": "stream",
     "text": [
      "V0:  0.0390314752053499 SN:  0.9999999999999994\n",
      "V0:  0.007690946873016782 SN:  0.9171745411267206\n",
      "V0:  0.09934960622896158 SN:  1.0887038735338368\n",
      "VH  (array([0.]), 1) VL  (array([0.]), 1)\n",
      "VH  (array([0.]), 1) VL  (array([0.]), 1)\n",
      "VH  (0.0, -0.0) VL  (0.0, -0.0)\n",
      "VH  (array([0.]), 1) VL  (array([0.]), 1)\n",
      "VH  (array([0.08147154]), 1) VL  (array([0.]), 1)\n",
      "VH  (0.034485306878306934, 0.9052393055555562) VL  (0.0, -0.0)\n",
      "VH  (0.01459695529240505, 0.3831700764256323) VL  (0.0, -0.0)\n",
      "VH  (array([0.]), 1) VL  (array([0.]), 1)\n",
      "VH  (array([0.08147154]), 1) VL  (array([0.]), 1)\n",
      "VH  (0.034485306878306934, 0.9052393055555562) VL  (0.0, -0.0)\n",
      "VH  (array([0.08147154]), 1) VL  (array([0.]), 1)\n",
      "VH  (array([0.20245944]), 1) VL  (array([0.08147154]), 1)\n",
      "VH  (0.12880375000000016, 1.3443099999999992) VL  (0.034485306878306934, 0.9052393055555562)\n",
      "VH  (0.07276629993561219, 1.047982701352146) VL  (0.01459695529240505, 0.3831700764256323)\n",
      "VH  (0.038523807005764445, 0.6463260515911898) VL  (0.006178605414774625, 0.16218839213783373)\n",
      "VH  (array([0.]), 1) VL  (array([0.]), 1)\n",
      "VH  (array([0.08147154]), 1) VL  (array([0.]), 1)\n",
      "VH  (0.034485306878306934, 0.9052393055555562) VL  (0.0, -0.0)\n",
      "VH  (array([0.08147154]), 1) VL  (array([0.]), 1)\n",
      "VH  (array([0.20245944]), 1) VL  (array([0.08147154]), 1)\n",
      "VH  (0.12880375000000016, 1.3443099999999992) VL  (0.034485306878306934, 0.9052393055555562)\n",
      "VH  (0.07276629993561219, 1.047982701352146) VL  (0.01459695529240505, 0.3831700764256323)\n",
      "VH  (array([0.08147154]), 1) VL  (array([0.]), 1)\n",
      "VH  (array([0.20245944]), 1) VL  (array([0.08147154]), 1)\n",
      "VH  (0.12880375000000016, 1.3443099999999992) VL  (0.034485306878306934, 0.9052393055555562)\n",
      "VH  (array([0.20245944]), 1) VL  (array([0.08147154]), 1)\n",
      "VH  (array([0.33422844]), 1) VL  (array([0.20245944]), 1)\n",
      "VH  (0.24859375000000017, 1.464099999999999) VL  (0.12880375000000016, 1.3443099999999992)\n",
      "VH  (0.17337500000000017, 1.3309999999999989) VL  (0.07276629993561219, 1.047982701352146)\n",
      "VH  (0.11188693118286365, 1.1178744451598654) VL  (0.038523807005764445, 0.6463260515911898)\n",
      "VH  (0.06774251426034675, 0.8151458241899904) VL  (0.01957547672983396, 0.35939112878877544)\n",
      "V0:  0.03903147520534992 Deltas (in a binary tree):  [0.535189305894586, 0.35939112878877544, 0.8151458241899904, 0.16218839213783373, 0.6463260515911898, 0.6463260515911898, 1.1178744451598654, -0.0, 0.3831700764256323, 0.3831700764256323, 1.047982701352146, 0.3831700764256323, 1.047982701352146, 1.047982701352146, 1.3309999999999989, -0.0, -0.0, -0.0, 0.9052393055555562, -0.0, 0.9052393055555562, 0.9052393055555562, 1.3443099999999992, -0.0, 0.9052393055555562, 0.9052393055555562, 1.3443099999999992, 0.9052393055555562, 1.3443099999999992, 1.3443099999999992, 1.464099999999999]\n"
     ]
    }
   ],
   "source": [
    "# 1D\n",
    "S0 = 1\n",
    "u = 1.1\n",
    "d = 1.01\n",
    "r = 0.05\n",
    "N = 5\n",
    "K = (1+r)**N * S0\n",
    "\n",
    "\n",
    "exp = be.bapm_exact(u, d, r, S0)\n",
    "exp.setOption(True, True, K, N)\n",
    "p_tilda = exp.riskNeutralProbability()\n",
    "V0 = exp.pathIndependentExpectedValue(N, p_tilda)\n",
    "print(\"V0: \", V0[0], \"SN: \", V0[1])\n",
    "\n",
    "V0 = exp.pathIndependentExpectedValue(N, p_tilda - 0.2)\n",
    "print(\"V0: \", V0[0], \"SN: \", V0[1])\n",
    "\n",
    "V0 = exp.pathIndependentExpectedValue(N, p_tilda + 0.2)\n",
    "print(\"V0: \", V0[0], \"SN: \", V0[1])\n",
    "\n",
    "# 2D1: You are observing a risk premium, depending on if you are buying or selling the option.\n",
    "\n",
    "V0 = exp.recursiveReplicatingPortfolio(N)\n",
    "print(\"V0: \", V0[0], \"Deltas (in a binary tree): \", V0[1])\n",
    "\n",
    "# 2D2: There is no short selling, but you can borrow money at the risk free rate.\n",
    "\n"
   ]
  },
  {
   "cell_type": "markdown",
   "metadata": {},
   "source": [
    "Monte Carlo\n"
   ]
  },
  {
   "cell_type": "code",
   "execution_count": 54,
   "metadata": {},
   "outputs": [
    {
     "name": "stdout",
     "output_type": "stream",
     "text": [
      "0.4444444444444444\n",
      "V0:  0.15863226692973567 SN:  1.1586322669297358\n",
      "V0:  0.012767016290733277 SN:  0.9622344351621079\n",
      "V0:  0.04255672096911092 SN:  1.0348213974140208\n",
      "V0:  0.07002750225814695 SN:  1.0573943569759905\n",
      "V0:  0.027868133341952154 SN:  0.985575562337954\n",
      "V0:  0.039005643049756455 SN:  0.9999490929210786\n"
     ]
    }
   ],
   "source": [
    "# 2A\n",
    "\n",
    "S0 = 1\n",
    "u = 1.1\n",
    "d = 1.01\n",
    "r = 0.05\n",
    "N = 5\n",
    "K = (1+r)**N * S0\n",
    "\n",
    "\n",
    "mc = mcs.MonteCarlo(up_factor=u, down_factor=d, risk_free_rate=r, S0=S0)\n",
    "mc.setOption(True, True, K, N)\n",
    "mc.setRNG(np.random.seed(654321))\n",
    "p_tilda = mc.riskNeutralProbability()\n",
    "print(p_tilda)\n",
    "\n",
    "for m in [1,5,3,10,32, (2**21)-1]:\n",
    "    S, V = mc.simulatePathDependent(1, 5, m, p_tilda)\n",
    "    print(\"V0: \", np.mean(V), \"SN: \", np.mean(S))\n",
    "\n"
   ]
  },
  {
   "cell_type": "code",
   "execution_count": 55,
   "metadata": {},
   "outputs": [
    {
     "name": "stdout",
     "output_type": "stream",
     "text": [
      "0.18367346938773846\n",
      "V0:  0.008193411816358243 SN:  1.0001938652984252\n",
      "V0:  0.007334748959789231 SN:  1.0004136374652213\n",
      "V0:  0.007711519742868852 SN:  1.0007865955585675\n",
      "V0:  0.00772243298669084 SN:  1.0002057811767604\n",
      "V0:  0.0075836484510681534 SN:  1.0000018188066009\n"
     ]
    }
   ],
   "source": [
    "#2B\n",
    "\n",
    "S0 = 1\n",
    "u = 1 + 5 * 10**(-3)\n",
    "d = 1 + 10**(-4)\n",
    "r = 10**(-3)\n",
    "N = 100\n",
    "K = (1+r)**N * S0\n",
    "\n",
    "mc = mcs.MonteCarlo(up_factor=u, down_factor=d, risk_free_rate=r, S0=S0)\n",
    "mc.setOption(True, True, K, N)\n",
    "mc.setRNG(np.random.seed(22))\n",
    "p_tilda = mc.riskNeutralProbability()\n",
    "\n",
    "print(p_tilda)\n",
    "S, V = mc.simulatePathDependent(S0, N, 32, p_tilda)\n",
    "print(\"V0: \", np.mean(V), \"SN: \", np.mean(S))\n",
    "\n",
    "S, V = mc.simulatePathDependent(S0, N, 256, p_tilda)\n",
    "print(\"V0: \", np.mean(V), \"SN: \", np.mean(S))\n",
    "\n",
    "S, V = mc.simulatePathDependent(S0, N, 2**10, p_tilda)\n",
    "print(\"V0: \", np.mean(V), \"SN: \", np.mean(S))\n",
    "\n",
    "S, V = mc.simulatePathDependent(S0, N, 2**11, p_tilda)\n",
    "print(\"V0: \", np.mean(V), \"SN: \", np.mean(S))\n",
    "\n",
    "S, V = mc.simulatePathDependent(S0, N, 2**21, p_tilda)\n",
    "print(\"V0: \", np.mean(V), \"SN: \", np.mean(S))"
   ]
  },
  {
   "cell_type": "code",
   "execution_count": 56,
   "metadata": {},
   "outputs": [
    {
     "name": "stdout",
     "output_type": "stream",
     "text": [
      "M 16  SA:  1.0059048618844324  V0:  0.011768543881957166  SN:  1.0059736172599938  S - SE:  6.875537556139122e-05\n",
      "M 256  SA:  1.0059048618844324  V0:  0.01184374149065637  SN:  1.0070698195695273  S - SE:  0.0011649576850949472\n",
      "M 65536  SA:  1.0059048618844324  V0:  0.010845246874054054  SN:  1.0059209170682781  S - SE:  1.6055183845731236e-05\n",
      "M 2097152  SA:  1.0059048618844324  V0:  0.010835491911450487  SN:  1.0059052409752662  S - SE:  3.7909083383524944e-07\n",
      "M 16  SA:  1.0059048618844324  V0:  0.015398395266678562  SN:  1.0133341804777118  S - SE:  0.007429318593279444\n",
      "M 256  SA:  1.0059048618844324  V0:  0.010215256527294445  SN:  1.005806747587105  S - SE:  -9.811429732731192e-05\n",
      "M 65536  SA:  1.0059048618844324  V0:  0.010893893171676204  SN:  1.005973456178265  S - SE:  6.859429383254678e-05\n"
     ]
    }
   ],
   "source": [
    "S0 = 1\n",
    "u = 1 + 5 * 10**(-3)\n",
    "d = 1 + 10**(-4)\n",
    "r = 10**(-3)\n",
    "N = 100\n",
    "K = (1+r)**N * S0\n",
    "\n",
    "ep = be.bapm_exact(u, d, r, S0)\n",
    "ep.setOption(True, True, K, N)\n",
    "p_tilda = ep.riskNeutralProbability()\n",
    "p = p_tilda * 0.9\n",
    "\n",
    "paths = ep.generateRandomPaths(maxPathLength=10, numPaths=5, p=p)\n",
    "SA_10 = ep.stockPrice(len(paths[0])-np.sum(paths, axis=1), np.sum(paths, axis=1))\n",
    "\n",
    "import random\n",
    "for SE in SA_10:\n",
    "    for M in [2**4, 2**8, 2**16, 2**21]:\n",
    "        mc = mcs.MonteCarlo(up_factor=u, down_factor=d, risk_free_rate=r, S0=SE)\n",
    "        mc.setRNG(np.random.seed(random.randint(0, 2**32)))\n",
    "        mc.setOption(True, True, K, N)\n",
    "        S, V = mc.simulatePathDependent(S0, N, M, p_tilda)\n",
    "        print(\"M\", M, \" SA: \", SE, \" V0: \", np.mean(V), \" SN: \", np.mean(S), \" S - SE: \", np.mean(S) - SE)\n"
   ]
  },
  {
   "cell_type": "code",
   "execution_count": null,
   "metadata": {},
   "outputs": [
    {
     "name": "stdout",
     "output_type": "stream",
     "text": [
      "SA:  1.0059048618844324  V0:  0.005424437920445551  SN:  1.0059223030611513  S - SE:  1.744117671886869e-05\n",
      "SA:  1.0059048618844324  V0:  0.005418034050822833  SN:  1.00591566122992  S - SE:  1.0799345487644274e-05\n",
      "SA:  1.0059048618844324  V0:  0.005411023571698876  SN:  1.0058887900361382  S - SE:  -1.6071848294219038e-05\n",
      "SA:  1.0059048618844324  V0:  0.005418786465304376  SN:  1.0059022884863835  S - SE:  -2.573398048877351e-06\n",
      "SA:  1.0059048618844324  V0:  0.005409445960868818  SN:  1.0058998991946382  S - SE:  -4.9626897942189885e-06\n",
      "SA:  1.0059048618844324  V0:  0.00541710326800386  SN:  1.0059034602546764  S - SE:  -1.4016297560370816e-06\n",
      "SA:  1.0059048618844324  V0:  0.005412347621461794  SN:  1.005913572191521  S - SE:  8.710307088710678e-06\n",
      "SA:  1.0059048618844324  V0:  0.005411784601788869  SN:  1.0059104128189722  S - SE:  5.550934539799712e-06\n",
      "SA:  1.0059048618844324  V0:  0.00541789170593576  SN:  1.0059246679466762  S - SE:  1.98060622438323e-05\n",
      "SA:  1.0059048618844324  V0:  0.005405585553987079  SN:  1.0058988190991986  S - SE:  -6.0427852337507915e-06\n",
      "SA:  1.0059048618844324  V0:  0.0054245321838649815  SN:  1.0059262779353049  S - SE:  2.1416050872469228e-05\n",
      "SA:  1.0059048618844324  V0:  0.005419784966204963  SN:  1.0059140593996545  S - SE:  9.197515222103547e-06\n",
      "SA:  1.0059048618844324  V0:  0.005422445080217493  SN:  1.005916211085202  S - SE:  1.1349200769616985e-05\n",
      "SA:  1.0059048618844324  V0:  0.005416951757089793  SN:  1.005909636101836  S - SE:  4.7742174036358165e-06\n",
      "SA:  1.0059048618844324  V0:  0.005395598276103198  SN:  1.00587488680688  S - SE:  -2.9975077552313323e-05\n",
      "SA:  1.0059048618844324  V0:  0.0054114568748461316  SN:  1.0058990780499486  S - SE:  -5.783834483796824e-06\n",
      "SA:  1.0059048618844324  V0:  0.005417915552701418  SN:  1.0059044306333071  S - SE:  -4.3125112525466136e-07\n",
      "SA:  1.0059048618844324  V0:  0.005408647564427378  SN:  1.0058967128902734  S - SE:  -8.148994159018486e-06\n",
      "SA:  1.0059048618844324  V0:  0.005415894710600249  SN:  1.0059104374584966  S - SE:  5.57557406422049e-06\n",
      "SA:  1.0059048618844324  V0:  0.005407162950426103  SN:  1.0058983547677307  S - SE:  -6.5071167016927944e-06\n",
      "SA:  1.0059048618844324  V0:  0.00541060366448241  SN:  1.0059028055021995  S - SE:  -2.056382232940024e-06\n",
      "SA:  1.0059048618844324  V0:  0.0054123501211159174  SN:  1.0059063878725287  S - SE:  1.5259880963292005e-06\n",
      "SA:  1.0059048618844324  V0:  0.0054152966624241685  SN:  1.0059022666636046  S - SE:  -2.59522082779462e-06\n",
      "SA:  1.0059048618844324  V0:  0.005412843809795207  SN:  1.005914953696006  S - SE:  1.009181157352046e-05\n",
      "SA:  1.0059048618844324  V0:  0.005422647989511457  SN:  1.0059273564420446  S - SE:  2.249455761216268e-05\n",
      "SA:  1.0059048618844324  V0:  0.005424841780076975  SN:  1.005908409538811  S - SE:  3.5476543787105186e-06\n",
      "SA:  1.0059048618844324  V0:  0.005406174810458333  SN:  1.0059030281325971  S - SE:  -1.8337518352673499e-06\n",
      "SA:  1.0059048618844324  V0:  0.0054096156877956915  SN:  1.005891430249148  S - SE:  -1.3431635284444354e-05\n",
      "SA:  1.0059048618844324  V0:  0.005418077486518666  SN:  1.0059058529416927  S - SE:  9.910572602578327e-07\n",
      "SA:  1.0059048618844324  V0:  0.005423599524512591  SN:  1.0059262700254952  S - SE:  2.140814106277311e-05\n",
      "SA:  1.0059048618844324  V0:  0.005410492684885252  SN:  1.0059001139908894  S - SE:  -4.74789354298899e-06\n",
      "SA:  1.0059048618844324  V0:  0.005415997962137906  SN:  1.0059055184319021  S - SE:  6.565474697239893e-07\n",
      "SA:  1.0059048618844324  V0:  0.005423938873992086  SN:  1.0059321916903556  S - SE:  2.7329805923237416e-05\n",
      "SA:  1.0059048618844324  V0:  0.0054229493656523945  SN:  1.0059222127527716  S - SE:  1.7350868339205405e-05\n",
      "SA:  1.0059048618844324  V0:  0.005410011893288506  SN:  1.0059006457010202  S - SE:  -4.216183412175667e-06\n",
      "SA:  1.0059048618844324  V0:  0.005409448058130571  SN:  1.0059017143528508  S - SE:  -3.1475315815931992e-06\n",
      "SA:  1.0059048618844324  V0:  0.005408236489436314  SN:  1.0058966929826336  S - SE:  -8.168901798777384e-06\n",
      "SA:  1.0059048618844324  V0:  0.005409867038866475  SN:  1.0058959145355715  S - SE:  -8.947348860921522e-06\n",
      "SA:  1.0059048618844324  V0:  0.00542123561192876  SN:  1.0059127644664625  S - SE:  7.902582030094862e-06\n",
      "SA:  1.0059048618844324  V0:  0.0054133598399003415  SN:  1.0059048513548237  S - SE:  -1.0529608740483809e-08\n",
      "SA:  1.0059048618844324  V0:  0.005397867564471365  SN:  1.005898660975811  S - SE:  -6.2009086214676046e-06\n",
      "SA:  1.0059048618844324  V0:  0.005405075459707263  SN:  1.005908377297921  S - SE:  3.515413488530683e-06\n",
      "SA:  1.0059048618844324  V0:  0.005426254723890249  SN:  1.0059228121897563  S - SE:  1.795030532392161e-05\n",
      "SA:  1.0059048618844324  V0:  0.005417122720901433  SN:  1.0059168643345253  S - SE:  1.2002450092918338e-05\n",
      "SA:  1.0059048618844324  V0:  0.005424368016120362  SN:  1.0059289807529275  S - SE:  2.4118868495071055e-05\n",
      "SA:  1.0059048618844324  V0:  0.005414555100751306  SN:  1.0059110271360394  S - SE:  6.165251607015421e-06\n",
      "SA:  1.0059048618844324  V0:  0.0054241964675434675  SN:  1.005921786474355  S - SE:  1.692458992264001e-05\n",
      "SA:  1.0059048618844324  V0:  0.005411010145168055  SN:  1.0058996686714212  S - SE:  -5.193213011178699e-06\n",
      "SA:  1.0059048618844324  V0:  0.0054161043246643845  SN:  1.0059151472111483  S - SE:  1.0285326715875343e-05\n",
      "SA:  1.0059048618844324  V0:  0.005403509404470104  SN:  1.0058974964005793  S - SE:  -7.3654838530501365e-06\n",
      "Mean:  1.005908243244316  Std:  1.354667941109647e-10\n"
     ]
    }
   ],
   "source": [
    "S0 = 1\n",
    "u = 1 + 5 * 10**(-3)\n",
    "d = 1 + 10**(-4)\n",
    "r = 10**(-3)\n",
    "N = 100\n",
    "K = (1+r)**N * S0\n",
    "\n",
    "ep = be.bapm_exact(u, d, r, S0)\n",
    "ep.setOption(True, True, K, N)\n",
    "p_tilda = ep.riskNeutralProbability()\n",
    "p = p_tilda * 0.9\n",
    "\n",
    "paths = ep.generateRandomPaths(maxPathLength=10, numPaths=1, p=p)\n",
    "SA_10 = ep.stockPrice(len(paths[0])-np.sum(paths, axis=1), np.sum(paths, axis=1))\n",
    "\n",
    "S_samples = []\n",
    "\n",
    "SE = SA_10\n",
    "import random\n",
    "for path in paths:\n",
    "    for i in range(50):\n",
    "        mc = mcs.MonteCarlo(up_factor=u, down_factor=d, risk_free_rate=r, S0=SA_10)\n",
    "        mc.setRNG(np.random.seed(random.randint(0, 2**16)))\n",
    "        mc.setOption(True, True, K, N)\n",
    "        S, V = mc.simulatePathDependent(S0, N-10, 2**21, p_tilda)\n",
    "        print(\"SA: \", SE, \" V0: \", np.mean(V), \" SN: \", np.mean(S), \" S - SE: \", np.mean(S) - SE)\n",
    "        S_samples.append(np.mean(S))\n",
    "\n",
    "print(\"Mean: \", np.mean(S_samples), \" Std: \", np.var(S_samples, ddof=1))\n"
   ]
  },
  {
   "cell_type": "code",
   "execution_count": null,
   "metadata": {},
   "outputs": [
    {
     "data": {
      "text/plain": [
       "(array([ 1.,  1.,  9., 15., 12.,  6.,  6.]),\n",
       " array([1.00587489, 1.00588307, 1.00589126, 1.00589945, 1.00590763,\n",
       "        1.00591582, 1.00592401, 1.00593219]),\n",
       " <BarContainer object of 7 artists>)"
      ]
     },
     "execution_count": 48,
     "metadata": {},
     "output_type": "execute_result"
    },
    {
     "data": {
      "image/png": "[encoded data removed]",
      "text/plain": [
       "<Figure size 432x288 with 1 Axes>"
      ]
     },
     "metadata": {
      "needs_background": "light"
     },
     "output_type": "display_data"
    }
   ],
   "source": [
    "import matplotlib.pyplot as plt\n",
    "plt.hist(S_samples, bins='auto')"
   ]
  },
  {
   "cell_type": "markdown",
   "metadata": {},
   "source": [
    "this shows us a measure of how accurate our monte carlo approximation is, if we approximate the error as normal, we can determine a standard error region. "
   ]
  },
  {
   "cell_type": "code",
   "execution_count": null,
   "metadata": {},
   "outputs": [
    {
     "name": "stdout",
     "output_type": "stream",
     "text": [
      "0.18367346938773846\n",
      "V0:  0.016330196352992418 SN:  0.9940740894389662\n",
      "V0:  0.013612525427764996 SN:  1.000649713248253\n",
      "V0:  0.014263143606279633 SN:  1.000083659970084\n",
      "V0:  0.014043153707195912 SN:  1.0005261923722562\n",
      "V0:  0.014181400661865018 SN:  1.0000101565557424\n"
     ]
    }
   ],
   "source": [
    "S0 = 1\n",
    "u = 1 + 5 * 10**(-3)\n",
    "d = 1 + 10**(-4)\n",
    "r = 10**(-3)\n",
    "N = 100\n",
    "K = (1+r)**N * S0\n",
    "\n",
    "mc = mcs.MonteCarlo(up_factor=u, down_factor=d, risk_free_rate=r, S0=S0)\n",
    "mc.setOption(True, True, K, N)\n",
    "mc.setRNG(np.random.seed(22))\n",
    "print(p_tilda)\n",
    "S, V = mc.simulatePathDependent(S0, N, 32, p_tilda, True)\n",
    "print(\"V0: \", np.mean(V), \"SN: \", np.mean(S))\n",
    "\n",
    "S, V = mc.simulatePathDependent(S0, N, 256, p_tilda, True)\n",
    "print(\"V0: \", np.mean(V), \"SN: \", np.mean(S))\n",
    "\n",
    "S, V = mc.simulatePathDependent(S0, N, 2**10, p_tilda, True)\n",
    "print(\"V0: \", np.mean(V), \"SN: \", np.mean(S))\n",
    "\n",
    "S, V = mc.simulatePathDependent(S0, N, 2**11, p_tilda,  True)\n",
    "print(\"V0: \", np.mean(V), \"SN: \", np.mean(S))\n",
    "\n",
    "S, V = mc.simulatePathDependent(S0, N, 2**21, p_tilda,  True)\n",
    "print(\"V0: \", np.mean(V), \"SN: \", np.mean(S))"
   ]
  },
  {
   "cell_type": "code",
   "execution_count": null,
   "metadata": {},
   "outputs": [
    {
     "name": "stdout",
     "output_type": "stream",
     "text": [
      "SA:  1.0059048618844324  V0:  0.014203650910349521  SN:  0.9999905865712665  S - SE:  -0.0059142753131659065\n",
      "SA:  1.0059048618844324  V0:  0.014186587156586626  SN:  1.0000172466562463  S - SE:  -0.005887615228186149\n",
      "SA:  1.010833302863568  V0:  0.014188097756268015  SN:  0.9999982647247894  S - SE:  -0.01083503813877873\n",
      "SA:  1.0059048618844324  V0:  0.014198178870517721  SN:  0.9999916316676335  S - SE:  -0.005913230216798904\n",
      "SA:  1.0059048618844324  V0:  0.014179891690147968  SN:  1.0000217804208449  S - SE:  -0.005883081463587514\n"
     ]
    }
   ],
   "source": [
    "S0 = 1\n",
    "u = 1 + 5 * 10**(-3)\n",
    "d = 1 + 10**(-4)\n",
    "r = 10**(-3)\n",
    "N = 100\n",
    "K = (1+r)**N * S0\n",
    "\n",
    "ep = be.bapm_exact(u, d, r, S0)\n",
    "ep.setOption(True, True, K, N)\n",
    "p_tilda = ep.riskNeutralProbability()\n",
    "p = p_tilda * 0.9\n",
    "\n",
    "paths = ep.generateRandomPaths(maxPathLength=10, numPaths=5, p=p)\n",
    "SA_10 = ep.stockPrice(len(paths[0])-np.sum(paths, axis=1), np.sum(paths, axis=1))\n",
    "\n",
    "import random\n",
    "for SE in SA_10:\n",
    "    mc = mcs.MonteCarlo(up_factor=u, down_factor=d, risk_free_rate=r, S0=SE)\n",
    "    mc.setRNG(np.random.seed(random.randint(0, 2**32)))\n",
    "    mc.setOption(True, True, K, N)\n",
    "    maxVal=-99999999999999\n",
    "    stock = S0\n",
    "    for t in range(10):\n",
    "        stock = stock * (1 + u) if paths[0][t] == 1 else stock * (1 + d)\n",
    "        maxVal = np.maximum(maxVal, stock * (1+r)**(10-t))\n",
    "\n",
    "    S, V = mc.simulatePathDependent(S0, N, 2**21, p_tilda, True, maxVal)    \n",
    "    print(\"SA: \", SE, \" V0: \", np.mean(V), \" SN: \", np.mean(S), \" S - SE: \", np.mean(S) - SE)\n"
   ]
  },
  {
   "cell_type": "code",
   "execution_count": null,
   "metadata": {},
   "outputs": [
    {
     "name": "stdout",
     "output_type": "stream",
     "text": [
      "SA:  1.0059048618844324  V0:  0.014183391643019327  SN:  1.0000088308092623  S - SE:  -0.005896031075170116\n",
      "SA:  1.0059048618844324  V0:  0.01417429028635954  SN:  1.000014110974597  S - SE:  -0.005890750909835374\n",
      "SA:  1.0059048618844324  V0:  0.01418137204075522  SN:  1.0000186119908043  S - SE:  -0.0058862498936280705\n",
      "SA:  1.0059048618844324  V0:  0.014192538329418726  SN:  1.0000080679764773  S - SE:  -0.005896793907955056\n",
      "SA:  1.0059048618844324  V0:  0.014182238050250425  SN:  1.0000106481922502  S - SE:  -0.0058942136921822375\n",
      "SA:  1.0059048618844324  V0:  0.014192505720281998  SN:  1.0000063580785368  S - SE:  -0.005898503805895627\n",
      "SA:  1.0059048618844324  V0:  0.014193424247461273  SN:  1.0000049870862289  S - SE:  -0.0058998747982035304\n",
      "SA:  1.0059048618844324  V0:  0.014199611447928624  SN:  0.9999909168358786  S - SE:  -0.005913945048553804\n",
      "SA:  1.0059048618844324  V0:  0.014180326848288929  SN:  1.00000807068692  S - SE:  -0.005896791197512297\n",
      "SA:  1.0059048618844324  V0:  0.014195075369230774  SN:  0.9999971684334009  S - SE:  -0.005907693451031482\n",
      "SA:  1.0059048618844324  V0:  0.014179207693600626  SN:  1.0000214374405179  S - SE:  -0.005883424443914542\n",
      "SA:  1.0059048618844324  V0:  0.014202668512778197  SN:  0.9999789082223084  S - SE:  -0.005925953662124006\n"
     ]
    }
   ],
   "source": [
    "S0 = 1\n",
    "u = 1 + 5 * 10**(-3)\n",
    "d = 1 + 10**(-4)\n",
    "r = 10**(-3)\n",
    "N = 100\n",
    "K = (1+r)**N * S0\n",
    "\n",
    "ep = be.bapm_exact(u, d, r, S0)\n",
    "ep.setOption(True, True, K, N)\n",
    "p_tilda = ep.riskNeutralProbability()\n",
    "p = p_tilda * 0.9\n",
    "\n",
    "paths = ep.generateRandomPaths(maxPathLength=10, numPaths=1, p=p)\n",
    "SA_10 = ep.stockPrice(len(paths[0])-np.sum(paths, axis=1), np.sum(paths, axis=1))\n",
    "\n",
    "\n",
    "\n",
    "import random\n",
    "for SE in SA_10:\n",
    "    for i in range(25):\n",
    "        mc = mcs.MonteCarlo(up_factor=u, down_factor=d, risk_free_rate=r, S0=SE)\n",
    "        mc.setRNG(np.random.seed(random.randint(0, 2**16)))\n",
    "        mc.setOption(True, True, K, N)\n",
    "        maxVal=-99999999999999\n",
    "        stock = S0\n",
    "        for t in range(10):\n",
    "            stock = stock * (1 + u) if paths[0][t] == 1 else stock * (1 + d)\n",
    "            maxVal = np.maximum(maxVal, stock * (1+r)**(10-t))\n",
    "\n",
    "        S, V = mc.simulatePathDependent(S0, N, 2**21, p_tilda, True, maxVal)\n",
    "        print(\"SA: \", SE, \" V0: \", np.mean(V), \" SN: \", np.mean(S), \" S - SE: \", np.mean(S) - SE)\n",
    "        S_samples.append(np.mean(S))\n",
    "\n",
    "print(\"Mean: \", np.mean(S_samples), \" Std: \", np.var(S_samples, ddof=1))\n"
   ]
  },
  {
   "cell_type": "code",
   "execution_count": null,
   "metadata": {},
   "outputs": [
    {
     "data": {
      "text/plain": [
       "(array([4., 5., 4., 4., 6., 2.]),\n",
       " array([0.99997015, 0.99998049, 0.99999082, 1.00000116, 1.00001149,\n",
       "        1.00002183, 1.00003216]),\n",
       " <BarContainer object of 6 artists>)"
      ]
     },
     "execution_count": 16,
     "metadata": {},
     "output_type": "execute_result"
    },
    {
     "data": {
      "image/png": "[encoded data removed]",
      "text/plain": [
       "<Figure size 432x288 with 1 Axes>"
      ]
     },
     "metadata": {
      "needs_background": "light"
     },
     "output_type": "display_data"
    }
   ],
   "source": [
    "import matplotlib.pyplot as plt\n",
    "plt.hist(S_samples, bins='auto')"
   ]
  }
 ],
 "metadata": {
  "kernelspec": {
   "display_name": "Python 3.8.10 64-bit",
   "language": "python",
   "name": "python3"
  },
  "language_info": {
   "codemirror_mode": {
    "name": "ipython",
    "version": 3
   },
   "file_extension": ".py",
   "mimetype": "text/x-python",
   "name": "python",
   "nbconvert_exporter": "python",
   "pygments_lexer": "ipython3",
   "version": "3.8.10"
  },
  "orig_nbformat": 4,
  "vscode": {
   "interpreter": {
    "hash": "916dbcbb3f70747c44a77c7bcd40155683ae19c65e1c03b4aa3499c5328201f1"
   }
  }
 },
 "nbformat": 4,
 "nbformat_minor": 2
}
