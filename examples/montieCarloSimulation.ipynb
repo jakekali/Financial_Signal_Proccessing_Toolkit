{
 "cells": [
  {
   "cell_type": "code",
   "execution_count": 1,
   "metadata": {},
   "outputs": [],
   "source": [
    "import sys\n",
    "sys.path.insert(0, '../')\n",
    "import fsp.monteCarloSimulation as mcs\n",
    "import fsp.BAPM as bapm\n",
    "import numpy as np"
   ]
  },
  {
   "cell_type": "code",
   "execution_count": 2,
   "metadata": {},
   "outputs": [
    {
     "name": "stdout",
     "output_type": "stream",
     "text": [
      "p_tilde = 0.4444444444444444\n",
      "p_tilde- = 0.2444444444444444\n",
      "p_tilde+ = 0.6444444444444444\n",
      "1.032\n",
      "1.05\n",
      "1.068\n"
     ]
    }
   ],
   "source": [
    "# Create a Monte Carlo simulation object\n",
    "mc = mcs.MonteCarlo(r=0.25, d=0.50, u=2, rng=np.random.RandomState(0))\n",
    "pc = bapm.probabilistic_analysis(r=0.05, d=1.01, u=1.1)\n",
    "\n",
    "p_tilde = bapm.BAPM.riskNeutralProbability(pc.r, pc.d, pc.u)\n",
    "print('p_tilde =', p_tilde)\n",
    "print('p_tilde- =', p_tilde-0.2)\n",
    "print('p_tilde+ =', p_tilde+0.2)\n",
    "\n",
    "print(pc.pathIndependentExpectedValue(S0=1, T=1, p=p_tilde-0.2))\n",
    "print(pc.pathIndependentExpectedValue(S0=1, T=1, p=p_tilde))\n",
    "print(pc.pathIndependentExpectedValue(S0=1, T=1, p=p_tilde+0.2))\n"
   ]
  },
  {
   "cell_type": "code",
   "execution_count": 6,
   "metadata": {},
   "outputs": [
    {
     "data": {
      "text/plain": [
       "array([16.        ,  3.33333333])"
      ]
     },
     "execution_count": 6,
     "metadata": {},
     "output_type": "execute_result"
    }
   ],
   "source": [
    "bapm.BAPM.singleStepReplicatingPortfolio(S0=4, u=2, d=0.5, r=0.25, VH=30, VL=10)"
   ]
  }
 ],
 "metadata": {
  "kernelspec": {
   "display_name": "Python 3.8.10 64-bit",
   "language": "python",
   "name": "python3"
  },
  "language_info": {
   "codemirror_mode": {
    "name": "ipython",
    "version": 3
   },
   "file_extension": ".py",
   "mimetype": "text/x-python",
   "name": "python",
   "nbconvert_exporter": "python",
   "pygments_lexer": "ipython3",
   "version": "3.8.10"
  },
  "orig_nbformat": 4,
  "vscode": {
   "interpreter": {
    "hash": "916dbcbb3f70747c44a77c7bcd40155683ae19c65e1c03b4aa3499c5328201f1"
   }
  }
 },
 "nbformat": 4,
 "nbformat_minor": 2
}
