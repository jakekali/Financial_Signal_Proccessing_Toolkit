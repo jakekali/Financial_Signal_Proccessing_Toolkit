{
 "cells": [
  {
   "cell_type": "code",
   "execution_count": 1,
   "metadata": {},
   "outputs": [],
   "source": [
    "import sys \n",
    "sys.path.append('../fsp')\n",
    "import monteCarloSimulation as mcs\n",
    "import bapm_exact as be\n",
    "import numpy as np\n",
    "import math\n",
    "import IPython.display as display\n"
   ]
  },
  {
   "cell_type": "code",
   "execution_count": 50,
   "metadata": {},
   "outputs": [
    {
     "data": {
      "text/latex": [
       "$\\displaystyle  E[V_N] = 1.2$"
      ],
      "text/plain": [
       "<IPython.core.display.Math object>"
      ]
     },
     "execution_count": 50,
     "metadata": {},
     "output_type": "execute_result"
    }
   ],
   "source": [
    "# 1A. Compute the $E[V_N], for a given probability$ \n",
    "# Test with example from notes. \n",
    "S0 = 4\n",
    "K = 5\n",
    "u = 2\n",
    "d = 0.5\n",
    "r = 0.25\n",
    "\n",
    "exp = be.bapm_exact(u, d, r, S0)\n",
    "exp.setOption(True, True, K, 1)\n",
    "\n",
    "# Computes the expected value of V_n for a N, and probability.\n",
    "V0 = exp.pathIndependentExpectedValue(1,exp.riskNeutralProbability())\n",
    "display.Math(r\"$ E[V_N] = \" + str( V0[0]) + \"$\")"
   ]
  },
  {
   "cell_type": "code",
   "execution_count": 51,
   "metadata": {},
   "outputs": [
    {
     "data": {
      "text/latex": [
       "$\\displaystyle  E[V_N] = [1.2]$ , $ \\Delta = [0.5]$"
      ],
      "text/plain": [
       "<IPython.core.display.Math object>"
      ]
     },
     "execution_count": 51,
     "metadata": {},
     "output_type": "execute_result"
    }
   ],
   "source": [
    "# 1B. Generate a replicating portfolio\n",
    "# Test with example from notes.\n",
    "\n",
    "S0 = 4\n",
    "K = 5\n",
    "u = 2\n",
    "d = 0.5\n",
    "r = 0.25\n",
    "\n",
    "exp = be.bapm_exact(u, d, r, S0)\n",
    "exp.setOption(True, True, K, 1)\n",
    "VH = exp.V(S0*u)\n",
    "VL = exp.V(S0*d)\n",
    "V0, Deltas = exp.singleStepReplicatingPortfolio(VH, VL)\n",
    "display.Math(r\"$ E[V_N] = \" + str( V0) + r\"$ \" + r\", $ \\Delta = \" + str( Deltas) + r\"$\")"
   ]
  },
  {
   "cell_type": "code",
   "execution_count": 52,
   "metadata": {},
   "outputs": [
    {
     "name": "stdout",
     "output_type": "stream",
     "text": [
      "VH  (array([1.]), 1) VL  (array([0.]), 1)\n",
      "VH  (array([13.]), 1) VL  (array([1.]), 1)\n",
      "VH  (5.6, 2.0) VL  (0.4, 0.16666666666666666)\n",
      "[0.8666666666666666, 0.16666666666666666, 2.0]\n"
     ]
    }
   ],
   "source": [
    "# 1C. Generate a MultiStep replicating portfolio\n",
    "# Test with example from notes.\n",
    "\n",
    "S0 = 4\n",
    "K = 3\n",
    "u = 2\n",
    "d = 0.5\n",
    "r = 0.25\n",
    "\n",
    "exp = be.bapm_exact(u, d, r, S0)\n",
    "exp.setOption(True, True, K, 2)\n",
    "VH = exp.V(S0*u)\n",
    "VL = exp.V(S0*d)\n",
    "V0, Deltas = exp.recursiveReplicatingPortfolio(2)\n",
    "print(Deltas)\n",
    "# display.Math(r\"$ E[V_N] = \" + str( V0) + r\"$ \" + r\", $ \\Delta = \" + str( Deltas) + r\"$\")\n",
    "# The Deltas are stored in a binary tree, so the first element is the root, the second and third are the children of the root, the fourth and fifth are the children of the second, and so on."
   ]
  },
  {
   "cell_type": "markdown",
   "metadata": {},
   "source": [
    "The delta's are not path independent, the however, only depend on the previous time-steps, they are adapted to the filtration."
   ]
  },
  {
   "cell_type": "code",
   "execution_count": 53,
   "metadata": {},
   "outputs": [
    {
     "name": "stdout",
     "output_type": "stream",
     "text": [
      "V0:  0.0390314752053499 SN:  0.9999999999999994\n",
      "V0:  0.007690946873016782 SN:  0.9171745411267206\n",
      "V0:  0.09934960622896158 SN:  1.0887038735338368\n",
      "VH  (array([0.]), 1) VL  (array([0.]), 1)\n",
      "VH  (array([0.]), 1) VL  (array([0.]), 1)\n",
      "VH  (0.0, -0.0) VL  (0.0, -0.0)\n",
      "VH  (array([0.]), 1) VL  (array([0.]), 1)\n",
      "VH  (array([0.08147154]), 1) VL  (array([0.]), 1)\n",
      "VH  (0.034485306878306934, 0.9052393055555562) VL  (0.0, -0.0)\n",
      "VH  (0.01459695529240505, 0.3831700764256323) VL  (0.0, -0.0)\n",
      "VH  (array([0.]), 1) VL  (array([0.]), 1)\n",
      "VH  (array([0.08147154]), 1) VL  (array([0.]), 1)\n",
      "VH  (0.034485306878306934, 0.9052393055555562) VL  (0.0, -0.0)\n",
      "VH  (array([0.08147154]), 1) VL  (array([0.]), 1)\n",
      "VH  (array([0.20245944]), 1) VL  (array([0.08147154]), 1)\n",
      "VH  (0.12880375000000016, 1.3443099999999992) VL  (0.034485306878306934, 0.9052393055555562)\n",
      "VH  (0.07276629993561219, 1.047982701352146) VL  (0.01459695529240505, 0.3831700764256323)\n",
      "VH  (0.038523807005764445, 0.6463260515911898) VL  (0.006178605414774625, 0.16218839213783373)\n",
      "VH  (array([0.]), 1) VL  (array([0.]), 1)\n",
      "VH  (array([0.08147154]), 1) VL  (array([0.]), 1)\n",
      "VH  (0.034485306878306934, 0.9052393055555562) VL  (0.0, -0.0)\n",
      "VH  (array([0.08147154]), 1) VL  (array([0.]), 1)\n",
      "VH  (array([0.20245944]), 1) VL  (array([0.08147154]), 1)\n",
      "VH  (0.12880375000000016, 1.3443099999999992) VL  (0.034485306878306934, 0.9052393055555562)\n",
      "VH  (0.07276629993561219, 1.047982701352146) VL  (0.01459695529240505, 0.3831700764256323)\n",
      "VH  (array([0.08147154]), 1) VL  (array([0.]), 1)\n",
      "VH  (array([0.20245944]), 1) VL  (array([0.08147154]), 1)\n",
      "VH  (0.12880375000000016, 1.3443099999999992) VL  (0.034485306878306934, 0.9052393055555562)\n",
      "VH  (array([0.20245944]), 1) VL  (array([0.08147154]), 1)\n",
      "VH  (array([0.33422844]), 1) VL  (array([0.20245944]), 1)\n",
      "VH  (0.24859375000000017, 1.464099999999999) VL  (0.12880375000000016, 1.3443099999999992)\n",
      "VH  (0.17337500000000017, 1.3309999999999989) VL  (0.07276629993561219, 1.047982701352146)\n",
      "VH  (0.11188693118286365, 1.1178744451598654) VL  (0.038523807005764445, 0.6463260515911898)\n",
      "VH  (0.06774251426034675, 0.8151458241899904) VL  (0.01957547672983396, 0.35939112878877544)\n",
      "V0:  0.03903147520534992 Deltas (in a binary tree):  [0.535189305894586, 0.35939112878877544, 0.8151458241899904, 0.16218839213783373, 0.6463260515911898, 0.6463260515911898, 1.1178744451598654, -0.0, 0.3831700764256323, 0.3831700764256323, 1.047982701352146, 0.3831700764256323, 1.047982701352146, 1.047982701352146, 1.3309999999999989, -0.0, -0.0, -0.0, 0.9052393055555562, -0.0, 0.9052393055555562, 0.9052393055555562, 1.3443099999999992, -0.0, 0.9052393055555562, 0.9052393055555562, 1.3443099999999992, 0.9052393055555562, 1.3443099999999992, 1.3443099999999992, 1.464099999999999]\n"
     ]
    }
   ],
   "source": [
    "# 1D\n",
    "S0 = 1\n",
    "u = 1.1\n",
    "d = 1.01\n",
    "r = 0.05\n",
    "N = 5\n",
    "K = (1+r)**N * S0\n",
    "\n",
    "\n",
    "exp = be.bapm_exact(u, d, r, S0)\n",
    "exp.setOption(True, True, K, N)\n",
    "p_tilda = exp.riskNeutralProbability()\n",
    "V0 = exp.pathIndependentExpectedValue(N, p_tilda)\n",
    "print(\"V0: \", V0[0], \"SN: \", V0[1])\n",
    "\n",
    "V0 = exp.pathIndependentExpectedValue(N, p_tilda - 0.2)\n",
    "print(\"V0: \", V0[0], \"SN: \", V0[1])\n",
    "\n",
    "V0 = exp.pathIndependentExpectedValue(N, p_tilda + 0.2)\n",
    "print(\"V0: \", V0[0], \"SN: \", V0[1])\n",
    "\n",
    "# 2D1: You are observing a risk premium, depending on if you are buying or selling the option.\n",
    "\n",
    "V0 = exp.recursiveReplicatingPortfolio(N)\n",
    "print(\"V0: \", V0[0], \"Deltas (in a binary tree): \", V0[1])\n",
    "\n",
    "# 2D2: There is no short selling, but you can borrow money at the risk free rate.\n",
    "\n"
   ]
  },
  {
   "cell_type": "markdown",
   "metadata": {},
   "source": [
    "Monte Carlo\n"
   ]
  },
  {
   "cell_type": "code",
   "execution_count": 54,
   "metadata": {},
   "outputs": [
    {
     "name": "stdout",
     "output_type": "stream",
     "text": [
      "0.4444444444444444\n",
      "V0:  0.15863226692973567 SN:  1.1586322669297358\n",
      "V0:  0.012767016290733277 SN:  0.9622344351621079\n",
      "V0:  0.04255672096911092 SN:  1.0348213974140208\n",
      "V0:  0.07002750225814695 SN:  1.0573943569759905\n",
      "V0:  0.027868133341952154 SN:  0.985575562337954\n",
      "V0:  0.039005643049756455 SN:  0.9999490929210786\n"
     ]
    }
   ],
   "source": [
    "# 2A\n",
    "\n",
    "S0 = 1\n",
    "u = 1.1\n",
    "d = 1.01\n",
    "r = 0.05\n",
    "N = 5\n",
    "K = (1+r)**N * S0\n",
    "\n",
    "\n",
    "mc = mcs.MonteCarlo(up_factor=u, down_factor=d, risk_free_rate=r, S0=S0)\n",
    "mc.setOption(True, True, K, N)\n",
    "mc.setRNG(np.random.seed(654321))\n",
    "p_tilda = mc.riskNeutralProbability()\n",
    "print(p_tilda)\n",
    "\n",
    "for m in [1,5,3,10,32, (2**21)-1]:\n",
    "    S, V = mc.simulatePathDependent(1, 5, m, p_tilda)\n",
    "    print(\"V0: \", np.mean(V), \"SN: \", np.mean(S))\n",
    "\n"
   ]
  },
  {
   "cell_type": "code",
   "execution_count": 55,
   "metadata": {},
   "outputs": [
    {
     "name": "stdout",
     "output_type": "stream",
     "text": [
      "0.18367346938773846\n",
      "V0:  0.008193411816358243 SN:  1.0001938652984252\n",
      "V0:  0.007334748959789231 SN:  1.0004136374652213\n",
      "V0:  0.007711519742868852 SN:  1.0007865955585675\n",
      "V0:  0.00772243298669084 SN:  1.0002057811767604\n",
      "V0:  0.0075836484510681534 SN:  1.0000018188066009\n"
     ]
    }
   ],
   "source": [
    "#2B\n",
    "\n",
    "S0 = 1\n",
    "u = 1 + 5 * 10**(-3)\n",
    "d = 1 + 10**(-4)\n",
    "r = 10**(-3)\n",
    "N = 100\n",
    "K = (1+r)**N * S0\n",
    "\n",
    "mc = mcs.MonteCarlo(up_factor=u, down_factor=d, risk_free_rate=r, S0=S0)\n",
    "mc.setOption(True, True, K, N)\n",
    "mc.setRNG(np.random.seed(22))\n",
    "p_tilda = mc.riskNeutralProbability()\n",
    "\n",
    "print(p_tilda)\n",
    "S, V = mc.simulatePathDependent(S0, N, 32, p_tilda)\n",
    "print(\"V0: \", np.mean(V), \"SN: \", np.mean(S))\n",
    "\n",
    "S, V = mc.simulatePathDependent(S0, N, 256, p_tilda)\n",
    "print(\"V0: \", np.mean(V), \"SN: \", np.mean(S))\n",
    "\n",
    "S, V = mc.simulatePathDependent(S0, N, 2**10, p_tilda)\n",
    "print(\"V0: \", np.mean(V), \"SN: \", np.mean(S))\n",
    "\n",
    "S, V = mc.simulatePathDependent(S0, N, 2**11, p_tilda)\n",
    "print(\"V0: \", np.mean(V), \"SN: \", np.mean(S))\n",
    "\n",
    "S, V = mc.simulatePathDependent(S0, N, 2**21, p_tilda)\n",
    "print(\"V0: \", np.mean(V), \"SN: \", np.mean(S))"
   ]
  },
  {
   "cell_type": "code",
   "execution_count": 56,
   "metadata": {},
   "outputs": [
    {
     "name": "stdout",
     "output_type": "stream",
     "text": [
      "M 16  SA:  1.0059048618844324  V0:  0.011768543881957166  SN:  1.0059736172599938  S - SE:  6.875537556139122e-05\n",
      "M 256  SA:  1.0059048618844324  V0:  0.01184374149065637  SN:  1.0070698195695273  S - SE:  0.0011649576850949472\n",
      "M 65536  SA:  1.0059048618844324  V0:  0.010845246874054054  SN:  1.0059209170682781  S - SE:  1.6055183845731236e-05\n",
      "M 2097152  SA:  1.0059048618844324  V0:  0.010835491911450487  SN:  1.0059052409752662  S - SE:  3.7909083383524944e-07\n",
      "M 16  SA:  1.0059048618844324  V0:  0.015398395266678562  SN:  1.0133341804777118  S - SE:  0.007429318593279444\n",
      "M 256  SA:  1.0059048618844324  V0:  0.010215256527294445  SN:  1.005806747587105  S - SE:  -9.811429732731192e-05\n",
      "M 65536  SA:  1.0059048618844324  V0:  0.010893893171676204  SN:  1.005973456178265  S - SE:  6.859429383254678e-05\n",
      "M 2097152  SA:  1.0059048618844324  V0:  0.01083126756773139  SN:  1.005899616948915  S - SE:  -5.244935517456639e-06\n",
      "M 16  SA:  1.010833302863568  V0:  0.010812671294704286  SN:  1.005306026906261  S - SE:  -0.005527275957307065\n",
      "M 256  SA:  1.010833302863568  V0:  0.014843413195925782  SN:  1.0121364537708468  S - SE:  0.0013031509072787273\n",
      "M 65536  SA:  1.010833302863568  V0:  0.014079209040532177  SN:  1.0108266663938277  S - SE:  -6.636469740417539e-06\n",
      "M 2097152  SA:  1.010833302863568  V0:  0.014127058159362087  SN:  1.0108607083208643  S - SE:  2.7405457296181268e-05\n",
      "M 16  SA:  1.0059048618844324  V0:  0.010188734961043552  SN:  1.007090932112948  S - SE:  0.0011860702285155789\n",
      "M 256  SA:  1.0059048618844324  V0:  0.01034992110094017  SN:  1.0053503763013771  S - SE:  -0.0005544855830552642\n",
      "M 65536  SA:  1.0059048618844324  V0:  0.010856034743427674  SN:  1.00593699260853  S - SE:  3.213072409757878e-05\n",
      "M 2097152  SA:  1.0059048618844324  V0:  0.010824763964083444  SN:  1.0058883573330277  S - SE:  -1.650455140467244e-05\n",
      "M 16  SA:  1.0059048618844324  V0:  0.006536355668271435  SN:  1.0018732309915876  S - SE:  -0.004031630892844751\n",
      "M 256  SA:  1.0059048618844324  V0:  0.009698063284075992  SN:  1.004340298885336  S - SE:  -0.0015645629990963528\n",
      "M 65536  SA:  1.0059048618844324  V0:  0.010830569950518412  SN:  1.0058444745254105  S - SE:  -6.0387359021918385e-05\n",
      "M 2097152  SA:  1.0059048618844324  V0:  0.010841918634242921  SN:  1.0058995411696174  S - SE:  -5.320714814960326e-06\n"
     ]
    }
   ],
   "source": [
    "S0 = 1\n",
    "u = 1 + 5 * 10**(-3)\n",
    "d = 1 + 10**(-4)\n",
    "r = 10**(-3)\n",
    "N = 100\n",
    "K = (1+r)**N * S0\n",
    "\n",
    "ep = be.bapm_exact(u, d, r, S0)\n",
    "ep.setOption(True, True, K, N)\n",
    "p_tilda = ep.riskNeutralProbability()\n",
    "p = p_tilda * 0.9\n",
    "\n",
    "paths = ep.generateRandomPaths(maxPathLength=10, numPaths=5, p=p)\n",
    "SA_10 = ep.stockPrice(len(paths[0])-np.sum(paths, axis=1), np.sum(paths, axis=1))\n",
    "\n",
    "import random\n",
    "for SE in SA_10:\n",
    "    for M in [2**4, 2**8, 2**16, 2**21]:\n",
    "        mc = mcs.MonteCarlo(up_factor=u, down_factor=d, risk_free_rate=r, S0=SE)\n",
    "        mc.setRNG(np.random.seed(random.randint(0, 2**32)))\n",
    "        mc.setOption(True, True, K, N)\n",
    "        S, V = mc.simulatePathDependent(S0, N, M, p_tilda)\n",
    "        print(\"M\", M, \" SA: \", SE, \" V0: \", np.mean(V), \" SN: \", np.mean(S), \" S - SE: \", np.mean(S) - SE)\n"
   ]
  },
  {
   "cell_type": "code",
   "execution_count": 57,
   "metadata": {},
   "outputs": [
    {
     "name": "stdout",
     "output_type": "stream",
     "text": [
      "SA:  1.0157858907888069  V0:  0.01045073856760506  SN:  1.0157882679048766  S - SE:  2.3771160697627636e-06\n",
      "SA:  1.0157858907888069  V0:  0.01046409419549689  SN:  1.0157955105378604  S - SE:  9.619749053557669e-06\n",
      "SA:  1.0157858907888069  V0:  0.010447265740199529  SN:  1.0157789328096372  S - SE:  -6.957979169719408e-06\n",
      "SA:  1.0157858907888069  V0:  0.010451882361774498  SN:  1.0157920007034071  S - SE:  6.10991460026078e-06\n",
      "SA:  1.0157858907888069  V0:  0.010467346259771752  SN:  1.0157934088186769  S - SE:  7.5180298699795145e-06\n",
      "SA:  1.0157858907888069  V0:  0.010439775517643841  SN:  1.0157775367326258  S - SE:  -8.354056181048009e-06\n",
      "SA:  1.0157858907888069  V0:  0.010451473686869493  SN:  1.0157893118335364  S - SE:  3.4210447295013324e-06\n",
      "SA:  1.0157858907888069  V0:  0.010460896537344463  SN:  1.0158029141631024  S - SE:  1.7023374295543903e-05\n",
      "SA:  1.0157858907888069  V0:  0.010442781802287837  SN:  1.0157797215794795  S - SE:  -6.169209327389069e-06\n",
      "SA:  1.0157858907888069  V0:  0.010451129042004872  SN:  1.0157900345309436  S - SE:  4.143742136752948e-06\n",
      "SA:  1.0157858907888069  V0:  0.010448667103054542  SN:  1.0157807756077064  S - SE:  -5.115181100467936e-06\n",
      "SA:  1.0157858907888069  V0:  0.010448701270431137  SN:  1.0157782380256286  S - SE:  -7.652763178267463e-06\n",
      "SA:  1.0157858907888069  V0:  0.010456970242882979  SN:  1.0157878233277728  S - SE:  1.932538965965236e-06\n",
      "SA:  1.0157858907888069  V0:  0.010447396690498932  SN:  1.0157601043073239  S - SE:  -2.578648148299223e-05\n",
      "SA:  1.0157858907888069  V0:  0.010434933135736313  SN:  1.0157569477698087  S - SE:  -2.894301899813989e-05\n",
      "SA:  1.0157858907888069  V0:  0.010453324305635107  SN:  1.0157939738176616  S - SE:  8.083028854688479e-06\n",
      "SA:  1.0157858907888069  V0:  0.01046509677069107  SN:  1.0158065928234727  S - SE:  2.0702034665864844e-05\n",
      "SA:  1.0157858907888069  V0:  0.010455861694287288  SN:  1.0158004383464345  S - SE:  1.454755762764215e-05\n",
      "SA:  1.0157858907888069  V0:  0.010438253200216711  SN:  1.015771063245242  S - SE:  -1.482754356496585e-05\n",
      "SA:  1.0157858907888069  V0:  0.01043570388885  SN:  1.0157602434665134  S - SE:  -2.5647322293487207e-05\n",
      "SA:  1.0157858907888069  V0:  0.010470797870894178  SN:  1.0158151187957516  S - SE:  2.9228006944714835e-05\n",
      "SA:  1.0157858907888069  V0:  0.01044580262573409  SN:  1.0157771195924856  S - SE:  -8.771196321255559e-06\n",
      "SA:  1.0157858907888069  V0:  0.010451001402145572  SN:  1.0157797237984278  S - SE:  -6.166990379030679e-06\n",
      "SA:  1.0157858907888069  V0:  0.01045150708143441  SN:  1.0157871168551442  S - SE:  1.226066337345344e-06\n",
      "SA:  1.0157858907888069  V0:  0.010454161599238248  SN:  1.0157877554352788  S - SE:  1.8646464718941047e-06\n",
      "SA:  1.0157858907888069  V0:  0.010440038229854972  SN:  1.0157716729914874  S - SE:  -1.421779731947126e-05\n",
      "SA:  1.0157858907888069  V0:  0.010470800324065235  SN:  1.0158076193896124  S - SE:  2.1728600805515086e-05\n",
      "SA:  1.0157858907888069  V0:  0.010457662361331966  SN:  1.0157927698826377  S - SE:  6.8790938307916605e-06\n",
      "SA:  1.0157858907888069  V0:  0.010436562399287615  SN:  1.0157638382253573  S - SE:  -2.2052563449559415e-05\n",
      "SA:  1.0157858907888069  V0:  0.010448090805608002  SN:  1.0157873400109039  S - SE:  1.4492220969941627e-06\n",
      "SA:  1.0157858907888069  V0:  0.010457827709744726  SN:  1.0157908992185654  S - SE:  5.008429758479593e-06\n",
      "SA:  1.0157858907888069  V0:  0.010467291254158857  SN:  1.0157988328180405  S - SE:  1.2942029233631303e-05\n",
      "SA:  1.0157858907888069  V0:  0.010446710664138829  SN:  1.0157666397174192  S - SE:  -1.925107138767146e-05\n",
      "SA:  1.0157858907888069  V0:  0.010454850972364637  SN:  1.0157886232794986  S - SE:  2.732490691714773e-06\n",
      "SA:  1.0157858907888069  V0:  0.010457905105103  SN:  1.0157951474467237  S - SE:  9.256657916845157e-06\n",
      "SA:  1.0157858907888069  V0:  0.01046057398544649  SN:  1.0157939052244056  S - SE:  8.01443559872439e-06\n",
      "SA:  1.0157858907888069  V0:  0.010450270177217077  SN:  1.0157825733438774  S - SE:  -3.317444929429314e-06\n",
      "SA:  1.0157858907888069  V0:  0.01046923871464117  SN:  1.015806307801354  S - SE:  2.041701254706929e-05\n",
      "SA:  1.0157858907888069  V0:  0.010456405863488913  SN:  1.0157928477906057  S - SE:  6.9570017988684896e-06\n",
      "SA:  1.0157858907888069  V0:  0.010457976948836628  SN:  1.0157965008333725  S - SE:  1.0610044565595445e-05\n",
      "SA:  1.0157858907888069  V0:  0.010466066539824462  SN:  1.015810778855819  S - SE:  2.4888067012174275e-05\n",
      "SA:  1.0157858907888069  V0:  0.010457523810149904  SN:  1.01580126849991  S - SE:  1.537771110315944e-05\n",
      "SA:  1.0157858907888069  V0:  0.010442762045255988  SN:  1.0157687979455752  S - SE:  -1.7092843231703014e-05\n",
      "SA:  1.0157858907888069  V0:  0.010463008512386384  SN:  1.0157970553090105  S - SE:  1.1164520203665873e-05\n",
      "SA:  1.0157858907888069  V0:  0.010433024432005064  SN:  1.0157640466261935  S - SE:  -2.184416261341582e-05\n",
      "SA:  1.0157858907888069  V0:  0.010451204521704663  SN:  1.015781431713084  S - SE:  -4.45907572288462e-06\n",
      "SA:  1.0157858907888069  V0:  0.010450867893234862  SN:  1.0157883543150532  S - SE:  2.4635262463323926e-06\n",
      "SA:  1.0157858907888069  V0:  0.010464313950055785  SN:  1.0158103442736317  S - SE:  2.4453484824826788e-05\n",
      "SA:  1.0157858907888069  V0:  0.010459359267700237  SN:  1.0157968899609  S - SE:  1.0999172093129062e-05\n",
      "SA:  1.0157858907888069  V0:  0.010438757067276039  SN:  1.015771752863682  S - SE:  -1.4137925124835249e-05\n",
      "Mean:  1.0157871382633106  Std:  2.0309689284135122e-10\n"
     ]
    }
   ],
   "source": [
    "S0 = 1\n",
    "u = 1 + 5 * 10**(-3)\n",
    "d = 1 + 10**(-4)\n",
    "r = 10**(-3)\n",
    "N = 100\n",
    "K = (1+r)**N * S0\n",
    "\n",
    "ep = be.bapm_exact(u, d, r, S0)\n",
    "ep.setOption(True, True, K, N)\n",
    "p_tilda = ep.riskNeutralProbability()\n",
    "p = p_tilda * 0.9\n",
    "\n",
    "paths = ep.generateRandomPaths(maxPathLength=10, numPaths=1, p=p)\n",
    "SA_10 = ep.stockPrice(len(paths[0])-np.sum(paths, axis=1), np.sum(paths, axis=1))\n",
    "\n",
    "S_samples = []\n",
    "\n",
    "SE = SA_10\n",
    "import random\n",
    "for path in paths:\n",
    "    for i in range(50):\n",
    "        mc = mcs.MonteCarlo(up_factor=u, down_factor=d, risk_free_rate=r, S0=SA_10)\n",
    "        mc.setRNG(np.random.seed(random.randint(0, 2**16)))\n",
    "        mc.setOption(True, True, K, N)\n",
    "        S, V = mc.simulatePathDependent(S0, N-10, 2**21, p_tilda)\n",
    "        print(\"SA: \", SE, \" V0: \", np.mean(V), \" SN: \", np.mean(S), \" S - SE: \", np.mean(S) - SE)\n",
    "        S_samples.append(np.mean(S))\n",
    "\n",
    "print(\"Mean: \", np.mean(S_samples), \" Std: \", np.var(S_samples, ddof=1))\n"
   ]
  },
  {
   "cell_type": "code",
   "execution_count": 58,
   "metadata": {},
   "outputs": [
    {
     "data": {
      "text/plain": [
       "(array([ 5.,  5.,  8., 10., 12.,  6.,  4.]),\n",
       " array([1.01575695, 1.01576526, 1.01577357, 1.01578188, 1.01579019,\n",
       "        1.0157985 , 1.01580681, 1.01581512]),\n",
       " <BarContainer object of 7 artists>)"
      ]
     },
     "execution_count": 58,
     "metadata": {},
     "output_type": "execute_result"
    },
    {
     "data": {
      "image/png": "[encoded data removed]",
      "text/plain": [
       "<Figure size 432x288 with 1 Axes>"
      ]
     },
     "metadata": {
      "needs_background": "light"
     },
     "output_type": "display_data"
    }
   ],
   "source": [
    "import matplotlib.pyplot as plt\n",
    "plt.hist(S_samples, bins='auto')"
   ]
  },
  {
   "cell_type": "markdown",
   "metadata": {},
   "source": [
    "this shows us a measure of how accurate our monte carlo approximation is, if we approximate the error as normal, we can determine a standard error region. "
   ]
  },
  {
   "cell_type": "code",
   "execution_count": 59,
   "metadata": {},
   "outputs": [
    {
     "name": "stdout",
     "output_type": "stream",
     "text": [
      "0.18367346938773846\n",
      "V0:  0.015093250205418445 SN:  0.9989098852415869\n",
      "V0:  0.013660541831645261 SN:  1.0004691725953179\n",
      "V0:  0.013465099497953312 SN:  1.000542217274402\n",
      "V0:  0.014427520369544183 SN:  0.9999496441983617\n",
      "V0:  0.014191741620350199 SN:  1.000011926006375\n"
     ]
    }
   ],
   "source": [
    "S0 = 1\n",
    "u = 1 + 5 * 10**(-3)\n",
    "d = 1 + 10**(-4)\n",
    "r = 10**(-3)\n",
    "N = 100\n",
    "K = (1+r)**N * S0\n",
    "\n",
    "mc = mcs.MonteCarlo(up_factor=u, down_factor=d, risk_free_rate=r, S0=S0)\n",
    "mc.setOption(True, True, K, N)\n",
    "mc.setRNG(np.random.seed(22))\n",
    "print(p_tilda)\n",
    "S, V = mc.simulatePathDependent(S0, N, 32, p_tilda, True)\n",
    "print(\"V0: \", np.mean(V), \"SN: \", np.mean(S))\n",
    "\n",
    "S, V = mc.simulatePathDependent(S0, N, 256, p_tilda, True)\n",
    "print(\"V0: \", np.mean(V), \"SN: \", np.mean(S))\n",
    "\n",
    "S, V = mc.simulatePathDependent(S0, N, 2**10, p_tilda, True)\n",
    "print(\"V0: \", np.mean(V), \"SN: \", np.mean(S))\n",
    "\n",
    "S, V = mc.simulatePathDependent(S0, N, 2**11, p_tilda,  True)\n",
    "print(\"V0: \", np.mean(V), \"SN: \", np.mean(S))\n",
    "\n",
    "S, V = mc.simulatePathDependent(S0, N, 2**21, p_tilda,  True)\n",
    "print(\"V0: \", np.mean(V), \"SN: \", np.mean(S))"
   ]
  },
  {
   "cell_type": "code",
   "execution_count": 5,
   "metadata": {},
   "outputs": [
    {
     "name": "stdout",
     "output_type": "stream",
     "text": [
      "16  SA:  1.0059048618844324  V0:  929.2615419750534  SN:  1.0022019622354006\n",
      "256  SA:  1.0059048618844324  V0:  929.2644896088457  SN:  0.9992543284433014\n",
      "65536  SA:  1.0059048618844324  V0:  929.2637091223577  SN:  1.0000348149313492\n",
      "16  SA:  1.0059048618844324  V0:  929.2671388319806  SN:  0.9966051053084064\n",
      "256  SA:  1.0059048618844324  V0:  929.2626751499998  SN:  1.0010687872891268\n",
      "65536  SA:  1.0059048618844324  V0:  929.2635707281943  SN:  1.0001732090946658\n",
      "16  SA:  1.010833302863568  V0:  929.2714179346218  SN:  0.9923260026671739\n",
      "256  SA:  1.010833302863568  V0:  929.264061308561  SN:  0.9996826287279308\n",
      "65536  SA:  1.010833302863568  V0:  929.263846098211  SN:  0.9998978390779356\n",
      "16  SA:  1.001000450120021  V0:  929.2630340011144  SN:  1.0007099361744776\n",
      "256  SA:  1.001000450120021  V0:  929.2624601399331  SN:  1.001283797355905\n",
      "65536  SA:  1.001000450120021  V0:  929.263674943505  SN:  1.0000689937840508\n",
      "16  SA:  1.0059048618844324  V0:  929.2667288964899  SN:  0.9970150407990146\n",
      "256  SA:  1.0059048618844324  V0:  929.2651735114623  SN:  0.9985704258266848\n",
      "65536  SA:  1.0059048618844324  V0:  929.2637307760467  SN:  1.0000131612422516\n"
     ]
    }
   ],
   "source": [
    "S0 = 1\n",
    "u = 1 + 5 * 10**(-3)\n",
    "d = 1 + 10**(-4)\n",
    "r = 10**(-3)\n",
    "N = 100\n",
    "K = (1+r)**N * S0\n",
    "\n",
    "ep = be.bapm_exact(u, d, r, S0)\n",
    "ep.setOption(True, True, K, N)\n",
    "p_tilda = ep.riskNeutralProbability()\n",
    "p = p_tilda * 0.9\n",
    "\n",
    "paths = ep.generateRandomPaths(maxPathLength=10, numPaths=5, p=p)\n",
    "SA_10 = ep.stockPrice(len(paths[0])-np.sum(paths, axis=1), np.sum(paths, axis=1))\n",
    "\n",
    "import random\n",
    "for SE in SA_10:\n",
    "    mc = mcs.MonteCarlo(up_factor=u, down_factor=d, risk_free_rate=r, S0=SE)\n",
    "    mc.setRNG(np.random.seed(random.randint(0, 2**32)))\n",
    "    mc.setOption(True, True, K, N)\n",
    "    maxVal=-99999999999999\n",
    "    stock = S0\n",
    "    for t in range(10):\n",
    "        stock = stock * (1 + u) if paths[0][t] == 1 else stock * (1 + d)\n",
    "        maxVal = np.maximum(maxVal, stock * (1+r)**(10-t))\n",
    "\n",
    "    for M in [2**4, 2**8, 2**16]:     \n",
    "        S, V = mc.simulatePathDependent(S0, N, M, p_tilda, True, maxVal)    \n",
    "        print(M, \" SA: \", SE, \" V0: \", np.mean(V), \" SN: \", np.mean(S))\n"
   ]
  },
  {
   "cell_type": "code",
   "execution_count": 13,
   "metadata": {},
   "outputs": [
    {
     "name": "stdout",
     "output_type": "stream",
     "text": [
      "Mean:  0.9999975617397119  Std:  5.714280106262716e-09\n"
     ]
    }
   ],
   "source": [
    "S0 = 1\n",
    "u = 1 + 5 * 10**(-3)\n",
    "d = 1 + 10**(-4)\n",
    "r = 10**(-3)\n",
    "N = 100\n",
    "K = (1+r)**N * S0\n",
    "\n",
    "ep = be.bapm_exact(u, d, r, S0)\n",
    "ep.setOption(True, True, K, N)\n",
    "p_tilda = ep.riskNeutralProbability()\n",
    "p = p_tilda * 0.9\n",
    "\n",
    "paths = ep.generateRandomPaths(maxPathLength=10, numPaths=1, p=p)\n",
    "SA_10 = ep.stockPrice(len(paths[0])-np.sum(paths, axis=1), np.sum(paths, axis=1))\n",
    "\n",
    "S_samples = []\n",
    "\n",
    "import random\n",
    "for SE in [SA_10]:\n",
    "    for i in range(100):\n",
    "        mc = mcs.MonteCarlo(up_factor=u, down_factor=d, risk_free_rate=r, S0=SE)\n",
    "        mc.setRNG(np.random.seed(random.randint(0, 2**16)))\n",
    "        mc.setOption(True, True, K, N)\n",
    "        maxVal=-99999999999999\n",
    "        stock = S0\n",
    "        for t in range(10):\n",
    "            stock = stock * (1 + u) if paths[0][t] == 1 else stock * (1 + d)\n",
    "            maxVal = np.maximum(maxVal, stock * (1+r)**(10-t))\n",
    "\n",
    "        S, V = mc.simulatePathDependent(S0, N, 2**16, p_tilda, True, maxVal)\n",
    "        S_samples.append(np.mean(S))\n",
    "\n",
    "print(\"Mean: \", np.mean(S_samples), \" Std: \", np.var(S_samples, ddof=1))\n"
   ]
  },
  {
   "cell_type": "code",
   "execution_count": 15,
   "metadata": {},
   "outputs": [
    {
     "data": {
      "text/plain": [
       "(array([ 3.,  1.,  7., 13., 17., 21., 21., 13.,  2.,  2.]),\n",
       " array([0.99978297, 0.99982338, 0.99986379, 0.9999042 , 0.99994461,\n",
       "        0.99998502, 1.00002543, 1.00006584, 1.00010625, 1.00014666,\n",
       "        1.00018707]),\n",
       " <BarContainer object of 10 artists>)"
      ]
     },
     "execution_count": 15,
     "metadata": {},
     "output_type": "execute_result"
    },
    {
     "data": {
      "image/png": "[encoded data removed]",
      "text/plain": [
       "<Figure size 432x288 with 1 Axes>"
      ]
     },
     "metadata": {
      "needs_background": "light"
     },
     "output_type": "display_data"
    }
   ],
   "source": [
    "import matplotlib.pyplot as plt\n",
    "plt.hist(S_samples, bins='auto')"
   ]
  }
 ],
 "metadata": {
  "kernelspec": {
   "display_name": "Python 3.8.10 64-bit",
   "language": "python",
   "name": "python3"
  },
  "language_info": {
   "codemirror_mode": {
    "name": "ipython",
    "version": 3
   },
   "file_extension": ".py",
   "mimetype": "text/x-python",
   "name": "python",
   "nbconvert_exporter": "python",
   "pygments_lexer": "ipython3",
   "version": "3.8.10 (default, Mar 15 2022, 12:22:08) \n[GCC 9.4.0]"
  },
  "orig_nbformat": 4,
  "vscode": {
   "interpreter": {
    "hash": "916dbcbb3f70747c44a77c7bcd40155683ae19c65e1c03b4aa3499c5328201f1"
   }
  }
 },
 "nbformat": 4,
 "nbformat_minor": 2
}
